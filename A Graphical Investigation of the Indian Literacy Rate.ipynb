{
 "cells": [
  {
   "cell_type": "markdown",
   "metadata": {},
   "source": [
    "*Note 1: This is the 2015-16 dataset. Lot of things might have been changed by now*"
   ]
  },
  {
   "cell_type": "markdown",
   "metadata": {},
   "source": [
    "This notebook contains a short analysis of the literacy rate in Indian states and how it depends on the state's education indicators. I will be following CRISP-DM and will be marking my steps throughout the notebook.\n",
    "The steps for CRISP-DM are as follows: \n",
    "\n",
    "1. Business understanding: outlining the questions we will answer along with why they are relevant and important\n",
    "2. Data understanding: understanding the data and providing stats about it\n",
    "3. Data preparation: showing how we clean and prepare the data\n",
    "4. Data modeling: if we created a model, this is the section we would put it in of the analysis\n",
    "5. Results evaluation: conclusion and discussion\n"
   ]
  },
  {
   "cell_type": "code",
   "execution_count": 1,
   "metadata": {},
   "outputs": [],
   "source": [
    "# Import libraries\n",
    "import pandas as pd\n",
    "import matplotlib.pyplot as plt\n",
    "import seaborn as sns\n",
    "import numpy as np\n",
    "\n",
    "%matplotlib inline"
   ]
  },
  {
   "cell_type": "code",
   "execution_count": 2,
   "metadata": {},
   "outputs": [],
   "source": [
    "# Reading in datasets\n",
    "elementary = pd.read_csv('data/2015_16_Statewise_Elementary.csv')\n",
    "meta_elementary = pd.read_csv('data/2015_16_Statewise_Elementary_Metadata.csv')"
   ]
  },
  {
   "cell_type": "markdown",
   "metadata": {},
   "source": [
    "Some functions that have been used throughout the notebook have been defined here:"
   ]
  },
  {
   "cell_type": "markdown",
   "metadata": {},
   "source": [
    "## Defining functions"
   ]
  },
  {
   "cell_type": "code",
   "execution_count": 3,
   "metadata": {},
   "outputs": [],
   "source": [
    "def sort_vals(df,col):\n",
    "    '''\n",
    "    sorts values according to the column provided in ascending order and returns a dataframe with \n",
    "    index reset\n",
    "    \n",
    "    INPUT:\n",
    "    df - dataframe to be sorted\n",
    "    col - column to be sorted on\n",
    "    \n",
    "    OUTPUT:\n",
    "    df_new - sorted dataframe with index reset\n",
    "    \n",
    "    '''\n",
    "    df_new = df.sort_values(by = col)\n",
    "    df_new.reset_index().drop('index', axis = 1, inplace = True)\n",
    "    return df_new"
   ]
  },
  {
   "cell_type": "code",
   "execution_count": 4,
   "metadata": {},
   "outputs": [],
   "source": [
    "# We could just have used df.plot.barh method instead of the below. Both of these have the same output\n",
    "def plot_barh(df, col1, col2, size = (10,10), title = None, xlabel = None):\n",
    "    '''\n",
    "    to make a horizontal barpot using any two columns(x and y axis) from a dataframe\n",
    "    \n",
    "    INPUT:\n",
    "    df - dataframe that contains the data\n",
    "    col1 - column for y-axis\n",
    "    col2 - column for x-axis\n",
    "    size - figsize attribute of the plot\n",
    "    title - title of the plot\n",
    "    xlabel - x-axis label of the plot\n",
    "    \n",
    "    '''\n",
    "    fig, ax = plt.subplots(1,1,figsize = size)\n",
    "    plt.barh(df[col1],df[col2],label = col2)\n",
    "            \n",
    "    if title:\n",
    "        ax.set_title(title)   \n",
    "    else:\n",
    "        ax.set_title('{} vs {}'.format(col2, col1))\n",
    "    if xlabel:\n",
    "        ax.set_xlabel(xlabel)\n",
    "    else:\n",
    "        ax.set_xlabel(col2)"
   ]
  },
  {
   "cell_type": "code",
   "execution_count": 5,
   "metadata": {},
   "outputs": [],
   "source": [
    "def display_desc(row):\n",
    "    '''\n",
    "    Displays the full string in the description column of the meta elementary dataset\n",
    "    \n",
    "    INPUT:\n",
    "    row - (str) value of the field name you want the description for\n",
    "    \n",
    "    '''\n",
    "    return meta_elementary[meta_elementary['Field name'] == row].Description.values[0]"
   ]
  },
  {
   "cell_type": "markdown",
   "metadata": {},
   "source": [
    "## Exploring the data\n",
    "\n",
    "Here, we are just taking a small look at the data to understand how to go about it working with it"
   ]
  },
  {
   "cell_type": "code",
   "execution_count": 6,
   "metadata": {},
   "outputs": [
    {
     "name": "stdout",
     "output_type": "stream",
     "text": [
      "(36, 816)\n",
      "(816, 2)\n"
     ]
    }
   ],
   "source": [
    "# Checking the shape of the datasets\n",
    "print(elementary.shape)\n",
    "print(meta_elementary.shape)"
   ]
  },
  {
   "cell_type": "code",
   "execution_count": 7,
   "metadata": {},
   "outputs": [
    {
     "name": "stdout",
     "output_type": "stream",
     "text": [
      "(0,)\n"
     ]
    }
   ],
   "source": [
    "# Quick check for null entries\n",
    "print(elementary.isnull().sum()[elementary.isnull().sum() > 0].shape)"
   ]
  },
  {
   "cell_type": "code",
   "execution_count": 8,
   "metadata": {},
   "outputs": [
    {
     "data": {
      "text/html": [
       "<div>\n",
       "<style scoped>\n",
       "    .dataframe tbody tr th:only-of-type {\n",
       "        vertical-align: middle;\n",
       "    }\n",
       "\n",
       "    .dataframe tbody tr th {\n",
       "        vertical-align: top;\n",
       "    }\n",
       "\n",
       "    .dataframe thead th {\n",
       "        text-align: right;\n",
       "    }\n",
       "</style>\n",
       "<table border=\"1\" class=\"dataframe\">\n",
       "  <thead>\n",
       "    <tr style=\"text-align: right;\">\n",
       "      <th></th>\n",
       "      <th>AC_YEAR</th>\n",
       "      <th>STATCD</th>\n",
       "      <th>STATNAME</th>\n",
       "      <th>DISTRICTS</th>\n",
       "      <th>BLOCKS</th>\n",
       "      <th>VILLAGES</th>\n",
       "      <th>CLUSTERS</th>\n",
       "      <th>TOTPOPULAT</th>\n",
       "      <th>P_URB_POP</th>\n",
       "      <th>POPULATION_0_6</th>\n",
       "      <th>...</th>\n",
       "      <th>USCR35</th>\n",
       "      <th>NOTCH_ASS</th>\n",
       "      <th>TCHINV</th>\n",
       "      <th>TOTCLS1G</th>\n",
       "      <th>TOTCLS2G</th>\n",
       "      <th>TOTCLS3G</th>\n",
       "      <th>TOTCLS4G</th>\n",
       "      <th>TOTCLS5G</th>\n",
       "      <th>TOTCLS6G</th>\n",
       "      <th>TOTCLS7G</th>\n",
       "    </tr>\n",
       "  </thead>\n",
       "  <tbody>\n",
       "    <tr>\n",
       "      <th>0</th>\n",
       "      <td>2015-16</td>\n",
       "      <td>1</td>\n",
       "      <td>JAMMU &amp; KASHMIR</td>\n",
       "      <td>22</td>\n",
       "      <td>201</td>\n",
       "      <td>7263</td>\n",
       "      <td>1628</td>\n",
       "      <td>12549</td>\n",
       "      <td>20.05</td>\n",
       "      <td>16.01</td>\n",
       "      <td>...</td>\n",
       "      <td>1014</td>\n",
       "      <td>20491</td>\n",
       "      <td>1946</td>\n",
       "      <td>41171</td>\n",
       "      <td>62474</td>\n",
       "      <td>7878</td>\n",
       "      <td>564</td>\n",
       "      <td>495</td>\n",
       "      <td>24326</td>\n",
       "      <td>2001</td>\n",
       "    </tr>\n",
       "    <tr>\n",
       "      <th>1</th>\n",
       "      <td>2015-16</td>\n",
       "      <td>2</td>\n",
       "      <td>HIMACHAL PRADESH</td>\n",
       "      <td>12</td>\n",
       "      <td>124</td>\n",
       "      <td>10120</td>\n",
       "      <td>2243</td>\n",
       "      <td>6857</td>\n",
       "      <td>8.69</td>\n",
       "      <td>11.14</td>\n",
       "      <td>...</td>\n",
       "      <td>652</td>\n",
       "      <td>36054</td>\n",
       "      <td>3053</td>\n",
       "      <td>38307</td>\n",
       "      <td>6930</td>\n",
       "      <td>6909</td>\n",
       "      <td>6498</td>\n",
       "      <td>5445</td>\n",
       "      <td>6151</td>\n",
       "      <td>2717</td>\n",
       "    </tr>\n",
       "  </tbody>\n",
       "</table>\n",
       "<p>2 rows × 816 columns</p>\n",
       "</div>"
      ],
      "text/plain": [
       "   AC_YEAR  STATCD          STATNAME  DISTRICTS  BLOCKS  VILLAGES  CLUSTERS  \\\n",
       "0  2015-16       1   JAMMU & KASHMIR         22     201      7263      1628   \n",
       "1  2015-16       2  HIMACHAL PRADESH         12     124     10120      2243   \n",
       "\n",
       "   TOTPOPULAT  P_URB_POP  POPULATION_0_6    ...     USCR35  NOTCH_ASS  TCHINV  \\\n",
       "0       12549      20.05           16.01    ...       1014      20491    1946   \n",
       "1        6857       8.69           11.14    ...        652      36054    3053   \n",
       "\n",
       "   TOTCLS1G  TOTCLS2G  TOTCLS3G  TOTCLS4G  TOTCLS5G  TOTCLS6G  TOTCLS7G  \n",
       "0     41171     62474      7878       564       495     24326      2001  \n",
       "1     38307      6930      6909      6498      5445      6151      2717  \n",
       "\n",
       "[2 rows x 816 columns]"
      ]
     },
     "execution_count": 8,
     "metadata": {},
     "output_type": "execute_result"
    }
   ],
   "source": [
    "elementary.head(2)"
   ]
  },
  {
   "cell_type": "code",
   "execution_count": 9,
   "metadata": {},
   "outputs": [
    {
     "data": {
      "text/html": [
       "<div>\n",
       "<style scoped>\n",
       "    .dataframe tbody tr th:only-of-type {\n",
       "        vertical-align: middle;\n",
       "    }\n",
       "\n",
       "    .dataframe tbody tr th {\n",
       "        vertical-align: top;\n",
       "    }\n",
       "\n",
       "    .dataframe thead th {\n",
       "        text-align: right;\n",
       "    }\n",
       "</style>\n",
       "<table border=\"1\" class=\"dataframe\">\n",
       "  <thead>\n",
       "    <tr style=\"text-align: right;\">\n",
       "      <th></th>\n",
       "      <th>Field name</th>\n",
       "      <th>Description</th>\n",
       "    </tr>\n",
       "  </thead>\n",
       "  <tbody>\n",
       "    <tr>\n",
       "      <th>0</th>\n",
       "      <td>AC_YEAR</td>\n",
       "      <td>AC_YEAR: AC_YEAR</td>\n",
       "    </tr>\n",
       "    <tr>\n",
       "      <th>1</th>\n",
       "      <td>STATCD</td>\n",
       "      <td>Data Reported from: Data Reported from</td>\n",
       "    </tr>\n",
       "  </tbody>\n",
       "</table>\n",
       "</div>"
      ],
      "text/plain": [
       "  Field name                             Description\n",
       "0    AC_YEAR                        AC_YEAR: AC_YEAR\n",
       "1     STATCD  Data Reported from: Data Reported from"
      ]
     },
     "execution_count": 9,
     "metadata": {},
     "output_type": "execute_result"
    }
   ],
   "source": [
    "meta_elementary.head(2)"
   ]
  },
  {
   "cell_type": "markdown",
   "metadata": {},
   "source": [
    "We see that:\n",
    "* elementary contains the different states along with their education indicator values.\n",
    "* meta_elementary gives us the description of the various labels used in elementary."
   ]
  },
  {
   "cell_type": "markdown",
   "metadata": {},
   "source": [
    "### [Step 1] Business Understanding:\n",
    "\n",
    "We will be trying to answer the following questions : \n",
    "1. Which states have the highest and the lowest literacy rates? \n",
    "2. How are the top 3 states different from the bottom 3 states and what factors can the bottom 3 states work on to increase their literacy rate?\n",
    "3. Which class is the dropout rate maximum in ?\n",
    "\n",
    "These questions help us not only in determining which states are the top and bottom 3 w.r.t. to overall literacy rate, but also in studying about factors that affect these states. The 3rd question is really important from the governments view as it gives us the class/age of the child where he/she is most likely to dropout and thus, that particluar age group can be targeted with highly personal and specialized incentives."
   ]
  },
  {
   "cell_type": "markdown",
   "metadata": {},
   "source": [
    "### [Step 2] Data Understanding:\n",
    "\n",
    "Here will be trying to get a little better look at the data in elementary."
   ]
  },
  {
   "cell_type": "code",
   "execution_count": 10,
   "metadata": {},
   "outputs": [
    {
     "data": {
      "text/plain": [
       "count    36.000000\n",
       "mean     78.309444\n",
       "std       8.257752\n",
       "min      63.820000\n",
       "25%      70.937500\n",
       "50%      78.480000\n",
       "75%      86.287500\n",
       "max      93.910000\n",
       "Name: OVERALL_LI, dtype: float64"
      ]
     },
     "execution_count": 10,
     "metadata": {},
     "output_type": "execute_result"
    }
   ],
   "source": [
    "# The overall state literacy rate\n",
    "elementary['OVERALL_LI'].describe()"
   ]
  },
  {
   "cell_type": "code",
   "execution_count": 11,
   "metadata": {},
   "outputs": [
    {
     "data": {
      "text/plain": [
       "count        36.000000\n",
       "mean      94501.111111\n",
       "std      102321.909726\n",
       "min          32.000000\n",
       "25%        9926.750000\n",
       "50%       54578.000000\n",
       "75%      140320.000000\n",
       "max      342239.000000\n",
       "Name: AREA_SQKM, dtype: float64"
      ]
     },
     "execution_count": 11,
     "metadata": {},
     "output_type": "execute_result"
    }
   ],
   "source": [
    "elementary.AREA_SQKM.describe()"
   ]
  },
  {
   "cell_type": "code",
   "execution_count": 12,
   "metadata": {},
   "outputs": [
    {
     "data": {
      "text/plain": [
       "count    36.000000\n",
       "mean     19.990556\n",
       "std      11.455856\n",
       "min      -0.470000\n",
       "25%      13.880000\n",
       "50%      18.910000\n",
       "75%      22.637500\n",
       "max      55.500000\n",
       "Name: GROWTHRATE, dtype: float64"
      ]
     },
     "execution_count": 12,
     "metadata": {},
     "output_type": "execute_result"
    }
   ],
   "source": [
    "elementary.GROWTHRATE.describe()"
   ]
  },
  {
   "cell_type": "code",
   "execution_count": 13,
   "metadata": {},
   "outputs": [
    {
     "data": {
      "text/html": [
       "<div>\n",
       "<style scoped>\n",
       "    .dataframe tbody tr th:only-of-type {\n",
       "        vertical-align: middle;\n",
       "    }\n",
       "\n",
       "    .dataframe tbody tr th {\n",
       "        vertical-align: top;\n",
       "    }\n",
       "\n",
       "    .dataframe thead th {\n",
       "        text-align: right;\n",
       "    }\n",
       "</style>\n",
       "<table border=\"1\" class=\"dataframe\">\n",
       "  <thead>\n",
       "    <tr style=\"text-align: right;\">\n",
       "      <th></th>\n",
       "      <th>AC_YEAR</th>\n",
       "      <th>STATCD</th>\n",
       "      <th>STATNAME</th>\n",
       "      <th>DISTRICTS</th>\n",
       "      <th>BLOCKS</th>\n",
       "      <th>VILLAGES</th>\n",
       "      <th>CLUSTERS</th>\n",
       "      <th>TOTPOPULAT</th>\n",
       "      <th>P_URB_POP</th>\n",
       "      <th>POPULATION_0_6</th>\n",
       "      <th>...</th>\n",
       "      <th>USCR35</th>\n",
       "      <th>NOTCH_ASS</th>\n",
       "      <th>TCHINV</th>\n",
       "      <th>TOTCLS1G</th>\n",
       "      <th>TOTCLS2G</th>\n",
       "      <th>TOTCLS3G</th>\n",
       "      <th>TOTCLS4G</th>\n",
       "      <th>TOTCLS5G</th>\n",
       "      <th>TOTCLS6G</th>\n",
       "      <th>TOTCLS7G</th>\n",
       "    </tr>\n",
       "  </thead>\n",
       "  <tbody>\n",
       "    <tr>\n",
       "      <th>12</th>\n",
       "      <td>2015-16</td>\n",
       "      <td>13</td>\n",
       "      <td>NAGALAND</td>\n",
       "      <td>11</td>\n",
       "      <td>47</td>\n",
       "      <td>1478</td>\n",
       "      <td>125</td>\n",
       "      <td>1981</td>\n",
       "      <td>17.31</td>\n",
       "      <td>14.44</td>\n",
       "      <td>...</td>\n",
       "      <td>233</td>\n",
       "      <td>21056</td>\n",
       "      <td>1454</td>\n",
       "      <td>6588</td>\n",
       "      <td>6152</td>\n",
       "      <td>1772</td>\n",
       "      <td>167</td>\n",
       "      <td>256</td>\n",
       "      <td>3639</td>\n",
       "      <td>781</td>\n",
       "    </tr>\n",
       "  </tbody>\n",
       "</table>\n",
       "<p>1 rows × 816 columns</p>\n",
       "</div>"
      ],
      "text/plain": [
       "    AC_YEAR  STATCD  STATNAME  DISTRICTS  BLOCKS  VILLAGES  CLUSTERS  \\\n",
       "12  2015-16      13  NAGALAND         11      47      1478       125   \n",
       "\n",
       "    TOTPOPULAT  P_URB_POP  POPULATION_0_6    ...     USCR35  NOTCH_ASS  \\\n",
       "12        1981      17.31           14.44    ...        233      21056   \n",
       "\n",
       "    TCHINV  TOTCLS1G  TOTCLS2G  TOTCLS3G  TOTCLS4G  TOTCLS5G  TOTCLS6G  \\\n",
       "12    1454      6588      6152      1772       167       256      3639   \n",
       "\n",
       "    TOTCLS7G  \n",
       "12       781  \n",
       "\n",
       "[1 rows x 816 columns]"
      ]
     },
     "execution_count": 13,
     "metadata": {},
     "output_type": "execute_result"
    }
   ],
   "source": [
    "elementary[elementary.GROWTHRATE == -0.47]"
   ]
  },
  {
   "cell_type": "markdown",
   "metadata": {},
   "source": [
    "Its interesting to see that Nagaland had a negative growth rate for 2015-16"
   ]
  },
  {
   "cell_type": "code",
   "execution_count": 14,
   "metadata": {},
   "outputs": [
    {
     "data": {
      "text/plain": [
       "count    36.000000\n",
       "mean     13.893611\n",
       "std       5.679685\n",
       "min       3.390000\n",
       "25%      10.130000\n",
       "50%      13.720000\n",
       "75%      18.182500\n",
       "max      27.850000\n",
       "dtype: float64"
      ]
     },
     "execution_count": 14,
     "metadata": {},
     "output_type": "execute_result"
    }
   ],
   "source": [
    "# difference between male and female literacy rates for each state\n",
    "(elementary.MALE_LIT - elementary.FEMALE_LIT).describe()"
   ]
  },
  {
   "cell_type": "markdown",
   "metadata": {},
   "source": [
    "The standard deviation is pretty large for this and we see that that 50% of the states have difference in male and female literacy rate as more than 13.72 which to me, seems pretty high !"
   ]
  },
  {
   "cell_type": "markdown",
   "metadata": {},
   "source": [
    "#### Let's go onto answer our questions now that we have got some insights about our data."
   ]
  },
  {
   "cell_type": "markdown",
   "metadata": {},
   "source": [
    "_Note : As data is clean, the 3rd step in CRISP-DM, data preparation will be written multiple times when we try to create new features_"
   ]
  },
  {
   "cell_type": "markdown",
   "metadata": {},
   "source": [
    "## 1. Which states have the highest and lowest literacy rates ? "
   ]
  },
  {
   "cell_type": "markdown",
   "metadata": {},
   "source": [
    "*NOTE: Secondary and elementary have the same stats concerning literacy rates.*"
   ]
  },
  {
   "cell_type": "code",
   "execution_count": 15,
   "metadata": {},
   "outputs": [],
   "source": [
    "# 'OVERALL_LI' is the overall literacy rate for each state\n",
    "elementary = sort_vals(elementary, 'OVERALL_LI')"
   ]
  },
  {
   "cell_type": "code",
   "execution_count": 16,
   "metadata": {},
   "outputs": [
    {
     "data": {
      "image/png": "[encoded data removed]",
      "text/plain": [
       "<Figure size 720x720 with 1 Axes>"
      ]
     },
     "metadata": {},
     "output_type": "display_data"
    }
   ],
   "source": [
    "plot_barh(elementary, 'STATNAME', 'OVERALL_LI', title = 'Literacy rates comparison \\\n",
    "between different states' , xlabel = 'Literacy rate')"
   ]
  },
  {
   "cell_type": "code",
   "execution_count": 17,
   "metadata": {},
   "outputs": [],
   "source": [
    "elementary = sort_vals(elementary, 'FEMALE_LIT')"
   ]
  },
  {
   "cell_type": "code",
   "execution_count": 18,
   "metadata": {},
   "outputs": [
    {
     "data": {
      "image/png": "[encoded data removed]",
      "text/plain": [
       "<Figure size 720x720 with 1 Axes>"
      ]
     },
     "metadata": {},
     "output_type": "display_data"
    }
   ],
   "source": [
    "plot_barh(elementary, 'STATNAME', 'FEMALE_LIT')"
   ]
  },
  {
   "cell_type": "code",
   "execution_count": 19,
   "metadata": {},
   "outputs": [],
   "source": [
    "elementary = sort_vals(elementary, 'MALE_LIT')"
   ]
  },
  {
   "cell_type": "code",
   "execution_count": 20,
   "metadata": {},
   "outputs": [
    {
     "data": {
      "image/png": "[encoded data removed]",
      "text/plain": [
       "<Figure size 720x720 with 1 Axes>"
      ]
     },
     "metadata": {},
     "output_type": "display_data"
    }
   ],
   "source": [
    "plot_barh(elementary, 'STATNAME', 'MALE_LIT')"
   ]
  },
  {
   "cell_type": "markdown",
   "metadata": {},
   "source": [
    "We will now see a Male vs Female vs Literacy rate comparison"
   ]
  },
  {
   "cell_type": "code",
   "execution_count": 21,
   "metadata": {},
   "outputs": [],
   "source": [
    "elementary = sort_vals(elementary, 'OVERALL_LI')"
   ]
  },
  {
   "cell_type": "code",
   "execution_count": 22,
   "metadata": {},
   "outputs": [
    {
     "data": {
      "text/plain": [
       "<matplotlib.axes._subplots.AxesSubplot at 0x7f104e85d358>"
      ]
     },
     "execution_count": 22,
     "metadata": {},
     "output_type": "execute_result"
    },
    {
     "data": {
      "image/png": "[encoded data removed]",
      "text/plain": [
       "<Figure size 864x432 with 1 Axes>"
      ]
     },
     "metadata": {},
     "output_type": "display_data"
    }
   ],
   "source": [
    "elementary.plot(kind = 'bar',x = 'STATNAME',y = ['MALE_LIT','FEMALE_LIT'],stacked = False,figsize=(12,6),width = 0.7,color = ['salmon','dimgrey'])"
   ]
  },
  {
   "cell_type": "markdown",
   "metadata": {},
   "source": [
    "There are two things that could be interesting to explore:\n",
    "\n",
    "1. Make a new column showing the the differences in literacy rates between men and women.\n",
    "2. It looks like North-Eastern states on an average have less difference between male and female literacy rates. "
   ]
  },
  {
   "cell_type": "markdown",
   "metadata": {},
   "source": [
    "### [Step 3] Data Preparation:\n",
    "\n",
    "Here we are going to create a new feature, DIFF_LIT, by subtracting the Female literacy rate from the male literacy rate. This will help us see the difference in male and female literacy rate for each state easily."
   ]
  },
  {
   "cell_type": "code",
   "execution_count": 23,
   "metadata": {},
   "outputs": [],
   "source": [
    "# Difference in Male and Female literacy rates\n",
    "elementary['DIFF_LIT'] = elementary.MALE_LIT - elementary.FEMALE_LIT "
   ]
  },
  {
   "cell_type": "code",
   "execution_count": 24,
   "metadata": {},
   "outputs": [
    {
     "name": "stdout",
     "output_type": "stream",
     "text": [
      "India's avg difference in literacy rate between men and women is : 13.89361111111111\n"
     ]
    }
   ],
   "source": [
    "# Average difference in literacy rates\n",
    "diff_lit_mean = elementary.DIFF_LIT.mean()\n",
    "print(\"India's avg difference in literacy rate between men and women is : {}\".format(diff_lit_mean))"
   ]
  },
  {
   "cell_type": "code",
   "execution_count": 25,
   "metadata": {},
   "outputs": [
    {
     "data": {
      "text/html": [
       "<div>\n",
       "<style scoped>\n",
       "    .dataframe tbody tr th:only-of-type {\n",
       "        vertical-align: middle;\n",
       "    }\n",
       "\n",
       "    .dataframe tbody tr th {\n",
       "        vertical-align: top;\n",
       "    }\n",
       "\n",
       "    .dataframe thead th {\n",
       "        text-align: right;\n",
       "    }\n",
       "</style>\n",
       "<table border=\"1\" class=\"dataframe\">\n",
       "  <thead>\n",
       "    <tr style=\"text-align: right;\">\n",
       "      <th></th>\n",
       "      <th>STATNAME</th>\n",
       "      <th>DIFF_LIT</th>\n",
       "    </tr>\n",
       "  </thead>\n",
       "  <tbody>\n",
       "    <tr>\n",
       "      <th>16</th>\n",
       "      <td>MEGHALAYA</td>\n",
       "      <td>3.39</td>\n",
       "    </tr>\n",
       "    <tr>\n",
       "      <th>31</th>\n",
       "      <td>KERALA</td>\n",
       "      <td>4.04</td>\n",
       "    </tr>\n",
       "    <tr>\n",
       "      <th>14</th>\n",
       "      <td>MIZORAM</td>\n",
       "      <td>4.32</td>\n",
       "    </tr>\n",
       "    <tr>\n",
       "      <th>12</th>\n",
       "      <td>NAGALAND</td>\n",
       "      <td>6.60</td>\n",
       "    </tr>\n",
       "    <tr>\n",
       "      <th>30</th>\n",
       "      <td>LAKSHADWEEP</td>\n",
       "      <td>7.86</td>\n",
       "    </tr>\n",
       "  </tbody>\n",
       "</table>\n",
       "</div>"
      ],
      "text/plain": [
       "       STATNAME  DIFF_LIT\n",
       "16    MEGHALAYA      3.39\n",
       "31       KERALA      4.04\n",
       "14      MIZORAM      4.32\n",
       "12     NAGALAND      6.60\n",
       "30  LAKSHADWEEP      7.86"
      ]
     },
     "execution_count": 25,
     "metadata": {},
     "output_type": "execute_result"
    }
   ],
   "source": [
    "# States with the least male and female literacy rates difference\n",
    "sort_vals(elementary, 'DIFF_LIT').head()[['STATNAME','DIFF_LIT']]"
   ]
  },
  {
   "cell_type": "code",
   "execution_count": 26,
   "metadata": {},
   "outputs": [
    {
     "data": {
      "text/html": [
       "<div>\n",
       "<style scoped>\n",
       "    .dataframe tbody tr th:only-of-type {\n",
       "        vertical-align: middle;\n",
       "    }\n",
       "\n",
       "    .dataframe tbody tr th {\n",
       "        vertical-align: top;\n",
       "    }\n",
       "\n",
       "    .dataframe thead th {\n",
       "        text-align: right;\n",
       "    }\n",
       "</style>\n",
       "<table border=\"1\" class=\"dataframe\">\n",
       "  <thead>\n",
       "    <tr style=\"text-align: right;\">\n",
       "      <th></th>\n",
       "      <th>STATNAME</th>\n",
       "      <th>DIFF_LIT</th>\n",
       "    </tr>\n",
       "  </thead>\n",
       "  <tbody>\n",
       "    <tr>\n",
       "      <th>22</th>\n",
       "      <td>MADHYA PRADESH</td>\n",
       "      <td>20.51</td>\n",
       "    </tr>\n",
       "    <tr>\n",
       "      <th>25</th>\n",
       "      <td>DADRA &amp; NAGAR HAVELI</td>\n",
       "      <td>20.53</td>\n",
       "    </tr>\n",
       "    <tr>\n",
       "      <th>21</th>\n",
       "      <td>CHHATTISGARH</td>\n",
       "      <td>20.86</td>\n",
       "    </tr>\n",
       "    <tr>\n",
       "      <th>19</th>\n",
       "      <td>JHARKHAND</td>\n",
       "      <td>22.24</td>\n",
       "    </tr>\n",
       "    <tr>\n",
       "      <th>7</th>\n",
       "      <td>RAJASTHAN</td>\n",
       "      <td>27.85</td>\n",
       "    </tr>\n",
       "  </tbody>\n",
       "</table>\n",
       "</div>"
      ],
      "text/plain": [
       "                STATNAME  DIFF_LIT\n",
       "22        MADHYA PRADESH     20.51\n",
       "25  DADRA & NAGAR HAVELI     20.53\n",
       "21          CHHATTISGARH     20.86\n",
       "19             JHARKHAND     22.24\n",
       "7              RAJASTHAN     27.85"
      ]
     },
     "execution_count": 26,
     "metadata": {},
     "output_type": "execute_result"
    }
   ],
   "source": [
    "# States with the most male and female literacy rates difference\n",
    "sort_vals(elementary, 'DIFF_LIT').tail()[['STATNAME','DIFF_LIT']]"
   ]
  },
  {
   "cell_type": "markdown",
   "metadata": {},
   "source": [
    "We now check out how the North-East Indian states perform compared to the National Average"
   ]
  },
  {
   "cell_type": "code",
   "execution_count": 27,
   "metadata": {},
   "outputs": [
    {
     "name": "stdout",
     "output_type": "stream",
     "text": [
      "The avg in DIFF_LIT for north-eastern states (9.1475) is much less than the national avg (13.89361111111111).\n"
     ]
    }
   ],
   "source": [
    "# These are the Indian North-East states\n",
    "north_east = ['NAGALAND','MANIPUR','MIZORAM','ASSAM','TRIPURA','ARUNACHAL PRADESH','MEGHALAYA','SIKKIM']\n",
    "elementary.set_index(elementary.STATNAME,inplace = True)\n",
    "ne_diff_lit_mean = elementary.loc[north_east,'DIFF_LIT' ].mean()\n",
    "print('The avg in DIFF_LIT for north-eastern states ({}) is much less than the national avg ({}).'.format(ne_diff_lit_mean,diff_lit_mean))"
   ]
  },
  {
   "cell_type": "code",
   "execution_count": 28,
   "metadata": {},
   "outputs": [
    {
     "name": "stdout",
     "output_type": "stream",
     "text": [
      "The Female literacy rate for meghalaya : 73.78 .VS. the avg female literacy rate : 71.0913888888889\n"
     ]
    }
   ],
   "source": [
    "print(\"The Female literacy rate for meghalaya : {} .VS. the avg female literacy rate : {}\".format(elementary.loc['MEGHALAYA','FEMALE_LIT'],elementary.FEMALE_LIT.mean()))"
   ]
  },
  {
   "cell_type": "markdown",
   "metadata": {},
   "source": [
    "We note the following from the above :\n",
    "\n",
    "* The states with the highest overall literacy rates are : Kerala, Lakshwadeep, Mizoram, Tripura and Goa.\n",
    "* The states with the lowest overall literacy rates are : Bihar, Telngana, Arunachal Pradesh, Rajasthan and Jharkhand. \n",
    "* Dadra and Nagar Haveli, Rajasthan, Chattisgarh, Jharkhand and MP have the maximum difference between Male and Female literacy rates. \n",
    "* Though the top states in male and female literacy remain the same but when we see the bottom states, they change. Meghalaya has the 5thhighest no. of illiterate males. The avg female literacy rate for Meghalaya though is higher than the avg female_lit rate.\n",
    "* Also, the states with the highest overall literacy rates have really little differences between male and female literacy rates in general. We also see that states in North east have on an average lesser difference between male and female literacy rates when compared with the average of the country."
   ]
  },
  {
   "cell_type": "markdown",
   "metadata": {},
   "source": [
    "## 2. How are the top 3 states different from the bottom 3 states and what factors can the bottom 3 states work on to increase their literacy rate ? ( Explore using elementary dataset only)"
   ]
  },
  {
   "cell_type": "markdown",
   "metadata": {},
   "source": [
    "For answering this question, we will carry out visual analyses using bar graphs on different features to see how they can affect Overall Literacy Rate"
   ]
  },
  {
   "cell_type": "markdown",
   "metadata": {},
   "source": [
    "### [Step 3] Data Preparation:\n",
    "\n",
    "We will be creating top_bottom, a dataframe that contains only the top 3 and bottom 3 states w.r.t. overal literacy rate. This will make plotting and analysis easy for us as we just have to explore these 6 states for answering this question."
   ]
  },
  {
   "cell_type": "code",
   "execution_count": 29,
   "metadata": {},
   "outputs": [],
   "source": [
    "# We will drop Telangana from bottom 3 as its been recently founded(2014)\n",
    "top_3_elem = elementary.sort_values(by = 'OVERALL_LI', ascending = False).head(3)\n",
    "bottom_3_elem = elementary.sort_values(by = 'OVERALL_LI', ascending = True).head(4).drop('TELANGANA',axis = 0)"
   ]
  },
  {
   "cell_type": "code",
   "execution_count": 30,
   "metadata": {},
   "outputs": [],
   "source": [
    "top_bottom = pd.concat([top_3_elem, bottom_3_elem], axis = 0, sort = False)"
   ]
  },
  {
   "cell_type": "code",
   "execution_count": 31,
   "metadata": {},
   "outputs": [
    {
     "data": {
      "text/html": [
       "<div>\n",
       "<style scoped>\n",
       "    .dataframe tbody tr th:only-of-type {\n",
       "        vertical-align: middle;\n",
       "    }\n",
       "\n",
       "    .dataframe tbody tr th {\n",
       "        vertical-align: top;\n",
       "    }\n",
       "\n",
       "    .dataframe thead th {\n",
       "        text-align: right;\n",
       "    }\n",
       "</style>\n",
       "<table border=\"1\" class=\"dataframe\">\n",
       "  <thead>\n",
       "    <tr style=\"text-align: right;\">\n",
       "      <th></th>\n",
       "      <th>AC_YEAR</th>\n",
       "      <th>STATCD</th>\n",
       "      <th>STATNAME</th>\n",
       "      <th>DISTRICTS</th>\n",
       "      <th>BLOCKS</th>\n",
       "      <th>VILLAGES</th>\n",
       "      <th>CLUSTERS</th>\n",
       "      <th>TOTPOPULAT</th>\n",
       "      <th>P_URB_POP</th>\n",
       "      <th>POPULATION_0_6</th>\n",
       "      <th>...</th>\n",
       "      <th>NOTCH_ASS</th>\n",
       "      <th>TCHINV</th>\n",
       "      <th>TOTCLS1G</th>\n",
       "      <th>TOTCLS2G</th>\n",
       "      <th>TOTCLS3G</th>\n",
       "      <th>TOTCLS4G</th>\n",
       "      <th>TOTCLS5G</th>\n",
       "      <th>TOTCLS6G</th>\n",
       "      <th>TOTCLS7G</th>\n",
       "      <th>DIFF_LIT</th>\n",
       "    </tr>\n",
       "    <tr>\n",
       "      <th>STATNAME</th>\n",
       "      <th></th>\n",
       "      <th></th>\n",
       "      <th></th>\n",
       "      <th></th>\n",
       "      <th></th>\n",
       "      <th></th>\n",
       "      <th></th>\n",
       "      <th></th>\n",
       "      <th></th>\n",
       "      <th></th>\n",
       "      <th></th>\n",
       "      <th></th>\n",
       "      <th></th>\n",
       "      <th></th>\n",
       "      <th></th>\n",
       "      <th></th>\n",
       "      <th></th>\n",
       "      <th></th>\n",
       "      <th></th>\n",
       "      <th></th>\n",
       "      <th></th>\n",
       "    </tr>\n",
       "  </thead>\n",
       "  <tbody>\n",
       "    <tr>\n",
       "      <th>KERALA</th>\n",
       "      <td>2015-16</td>\n",
       "      <td>32</td>\n",
       "      <td>KERALA</td>\n",
       "      <td>14</td>\n",
       "      <td>166</td>\n",
       "      <td>1907</td>\n",
       "      <td>1375</td>\n",
       "      <td>33388</td>\n",
       "      <td>24.76</td>\n",
       "      <td>9.95</td>\n",
       "      <td>...</td>\n",
       "      <td>3561</td>\n",
       "      <td>675</td>\n",
       "      <td>51419</td>\n",
       "      <td>43025</td>\n",
       "      <td>31335</td>\n",
       "      <td>5327</td>\n",
       "      <td>15449</td>\n",
       "      <td>17752</td>\n",
       "      <td>3936</td>\n",
       "      <td>4.04</td>\n",
       "    </tr>\n",
       "    <tr>\n",
       "      <th>LAKSHADWEEP</th>\n",
       "      <td>2015-16</td>\n",
       "      <td>31</td>\n",
       "      <td>LAKSHADWEEP</td>\n",
       "      <td>1</td>\n",
       "      <td>3</td>\n",
       "      <td>10</td>\n",
       "      <td>9</td>\n",
       "      <td>64</td>\n",
       "      <td>41.86</td>\n",
       "      <td>11.00</td>\n",
       "      <td>...</td>\n",
       "      <td>2395</td>\n",
       "      <td>209</td>\n",
       "      <td>139</td>\n",
       "      <td>150</td>\n",
       "      <td>49</td>\n",
       "      <td>15</td>\n",
       "      <td>28</td>\n",
       "      <td>11</td>\n",
       "      <td>0</td>\n",
       "      <td>7.86</td>\n",
       "    </tr>\n",
       "    <tr>\n",
       "      <th>MIZORAM</th>\n",
       "      <td>2015-16</td>\n",
       "      <td>15</td>\n",
       "      <td>MIZORAM</td>\n",
       "      <td>8</td>\n",
       "      <td>36</td>\n",
       "      <td>851</td>\n",
       "      <td>169</td>\n",
       "      <td>1091</td>\n",
       "      <td>40.42</td>\n",
       "      <td>15.17</td>\n",
       "      <td>...</td>\n",
       "      <td>4917</td>\n",
       "      <td>1386</td>\n",
       "      <td>6593</td>\n",
       "      <td>3267</td>\n",
       "      <td>0</td>\n",
       "      <td>4575</td>\n",
       "      <td>0</td>\n",
       "      <td>0</td>\n",
       "      <td>0</td>\n",
       "      <td>4.32</td>\n",
       "    </tr>\n",
       "    <tr>\n",
       "      <th>BIHAR</th>\n",
       "      <td>2015-16</td>\n",
       "      <td>10</td>\n",
       "      <td>BIHAR</td>\n",
       "      <td>38</td>\n",
       "      <td>537</td>\n",
       "      <td>40779</td>\n",
       "      <td>5633</td>\n",
       "      <td>103805</td>\n",
       "      <td>8.36</td>\n",
       "      <td>17.90</td>\n",
       "      <td>...</td>\n",
       "      <td>49110</td>\n",
       "      <td>3614</td>\n",
       "      <td>147323</td>\n",
       "      <td>272919</td>\n",
       "      <td>11332</td>\n",
       "      <td>2481</td>\n",
       "      <td>475</td>\n",
       "      <td>23095</td>\n",
       "      <td>927</td>\n",
       "      <td>20.06</td>\n",
       "    </tr>\n",
       "    <tr>\n",
       "      <th>ARUNACHAL PRADESH</th>\n",
       "      <td>2015-16</td>\n",
       "      <td>12</td>\n",
       "      <td>ARUNACHAL PRADESH</td>\n",
       "      <td>20</td>\n",
       "      <td>99</td>\n",
       "      <td>2982</td>\n",
       "      <td>234</td>\n",
       "      <td>1383</td>\n",
       "      <td>16.48</td>\n",
       "      <td>14.66</td>\n",
       "      <td>...</td>\n",
       "      <td>5497</td>\n",
       "      <td>504</td>\n",
       "      <td>8564</td>\n",
       "      <td>9020</td>\n",
       "      <td>820</td>\n",
       "      <td>202</td>\n",
       "      <td>304</td>\n",
       "      <td>2022</td>\n",
       "      <td>206</td>\n",
       "      <td>14.12</td>\n",
       "    </tr>\n",
       "    <tr>\n",
       "      <th>RAJASTHAN</th>\n",
       "      <td>2015-16</td>\n",
       "      <td>8</td>\n",
       "      <td>RAJASTHAN</td>\n",
       "      <td>33</td>\n",
       "      <td>302</td>\n",
       "      <td>41441</td>\n",
       "      <td>10594</td>\n",
       "      <td>68621</td>\n",
       "      <td>19.26</td>\n",
       "      <td>15.31</td>\n",
       "      <td>...</td>\n",
       "      <td>40162</td>\n",
       "      <td>2701</td>\n",
       "      <td>125798</td>\n",
       "      <td>253514</td>\n",
       "      <td>120330</td>\n",
       "      <td>979</td>\n",
       "      <td>5189</td>\n",
       "      <td>86126</td>\n",
       "      <td>1720</td>\n",
       "      <td>27.85</td>\n",
       "    </tr>\n",
       "  </tbody>\n",
       "</table>\n",
       "<p>6 rows × 817 columns</p>\n",
       "</div>"
      ],
      "text/plain": [
       "                   AC_YEAR  STATCD           STATNAME  DISTRICTS  BLOCKS  \\\n",
       "STATNAME                                                                   \n",
       "KERALA             2015-16      32             KERALA         14     166   \n",
       "LAKSHADWEEP        2015-16      31        LAKSHADWEEP          1       3   \n",
       "MIZORAM            2015-16      15            MIZORAM          8      36   \n",
       "BIHAR              2015-16      10              BIHAR         38     537   \n",
       "ARUNACHAL PRADESH  2015-16      12  ARUNACHAL PRADESH         20      99   \n",
       "RAJASTHAN          2015-16       8          RAJASTHAN         33     302   \n",
       "\n",
       "                   VILLAGES  CLUSTERS  TOTPOPULAT  P_URB_POP  POPULATION_0_6  \\\n",
       "STATNAME                                                                       \n",
       "KERALA                 1907      1375       33388      24.76            9.95   \n",
       "LAKSHADWEEP              10         9          64      41.86           11.00   \n",
       "MIZORAM                 851       169        1091      40.42           15.17   \n",
       "BIHAR                 40779      5633      103805       8.36           17.90   \n",
       "ARUNACHAL PRADESH      2982       234        1383      16.48           14.66   \n",
       "RAJASTHAN             41441     10594       68621      19.26           15.31   \n",
       "\n",
       "                     ...     NOTCH_ASS  TCHINV  TOTCLS1G  TOTCLS2G  TOTCLS3G  \\\n",
       "STATNAME             ...                                                       \n",
       "KERALA               ...          3561     675     51419     43025     31335   \n",
       "LAKSHADWEEP          ...          2395     209       139       150        49   \n",
       "MIZORAM              ...          4917    1386      6593      3267         0   \n",
       "BIHAR                ...         49110    3614    147323    272919     11332   \n",
       "ARUNACHAL PRADESH    ...          5497     504      8564      9020       820   \n",
       "RAJASTHAN            ...         40162    2701    125798    253514    120330   \n",
       "\n",
       "                   TOTCLS4G  TOTCLS5G  TOTCLS6G  TOTCLS7G  DIFF_LIT  \n",
       "STATNAME                                                             \n",
       "KERALA                 5327     15449     17752      3936      4.04  \n",
       "LAKSHADWEEP              15        28        11         0      7.86  \n",
       "MIZORAM                4575         0         0         0      4.32  \n",
       "BIHAR                  2481       475     23095       927     20.06  \n",
       "ARUNACHAL PRADESH       202       304      2022       206     14.12  \n",
       "RAJASTHAN               979      5189     86126      1720     27.85  \n",
       "\n",
       "[6 rows x 817 columns]"
      ]
     },
     "execution_count": 31,
     "metadata": {},
     "output_type": "execute_result"
    }
   ],
   "source": [
    "top_bottom"
   ]
  },
  {
   "cell_type": "markdown",
   "metadata": {},
   "source": [
    "Now we will go over different features that we think affect our state's overall literacy rate"
   ]
  },
  {
   "cell_type": "markdown",
   "metadata": {},
   "source": [
    "1. TOTPOPULAT"
   ]
  },
  {
   "cell_type": "code",
   "execution_count": 32,
   "metadata": {},
   "outputs": [
    {
     "data": {
      "text/plain": [
       "\"Basic data from Census 2011: Total Population(in 1000's)\""
      ]
     },
     "execution_count": 32,
     "metadata": {},
     "output_type": "execute_result"
    }
   ],
   "source": [
    "display_desc('TOTPOPULAT')"
   ]
  },
  {
   "cell_type": "code",
   "execution_count": 33,
   "metadata": {},
   "outputs": [
    {
     "data": {
      "text/plain": [
       "STATNAME\n",
       "KERALA                859.120500\n",
       "LAKSHADWEEP          2000.000000\n",
       "MIZORAM                51.752763\n",
       "BIHAR                1102.396907\n",
       "ARUNACHAL PRADESH      16.514813\n",
       "RAJASTHAN             200.506079\n",
       "dtype: float64"
      ]
     },
     "execution_count": 33,
     "metadata": {},
     "output_type": "execute_result"
    }
   ],
   "source": [
    "top_bottom.TOTPOPULAT/top_bottom.AREA_SQKM * 1000"
   ]
  },
  {
   "cell_type": "markdown",
   "metadata": {},
   "source": [
    "So population density isn't a factor at all in differentiating between the above two groups. At first I thought that maybe having higher population density created more pressure on the govt to cater to the needs of the people and that it might be difficult for states of really high population density to do so.But the govt of that state should be well equipped enough to make sure that people get access to education in that state irrelevent of how dense the population is."
   ]
  },
  {
   "cell_type": "markdown",
   "metadata": {},
   "source": [
    "2. DIFF_LIT"
   ]
  },
  {
   "cell_type": "markdown",
   "metadata": {},
   "source": [
    "DIFF_LIT is the variable we created earlier that  by subtracting female literacy rate from the male literacy rate"
   ]
  },
  {
   "cell_type": "code",
   "execution_count": 34,
   "metadata": {},
   "outputs": [
    {
     "data": {
      "text/plain": [
       "STATNAME\n",
       "KERALA                4.04\n",
       "LAKSHADWEEP           7.86\n",
       "MIZORAM               4.32\n",
       "BIHAR                20.06\n",
       "ARUNACHAL PRADESH    14.12\n",
       "RAJASTHAN            27.85\n",
       "Name: DIFF_LIT, dtype: float64"
      ]
     },
     "execution_count": 34,
     "metadata": {},
     "output_type": "execute_result"
    }
   ],
   "source": [
    "top_bottom.DIFF_LIT"
   ]
  },
  {
   "cell_type": "code",
   "execution_count": 35,
   "metadata": {},
   "outputs": [
    {
     "data": {
      "text/plain": [
       "Text(0.5,1,'Top 3 vs Bottom 3 states for DIFF_LIT')"
      ]
     },
     "execution_count": 35,
     "metadata": {},
     "output_type": "execute_result"
    },
    {
     "data": {
      "image/png": "[encoded data removed]",
      "text/plain": [
       "<Figure size 432x288 with 1 Axes>"
      ]
     },
     "metadata": {},
     "output_type": "display_data"
    }
   ],
   "source": [
    "top_bottom.plot(y = 'DIFF_LIT',kind= 'bar')\n",
    "plt.title('Top 3 vs Bottom 3 states for DIFF_LIT')"
   ]
  },
  {
   "cell_type": "markdown",
   "metadata": {},
   "source": [
    "DIFF_LIT says a lot. The differences are really high in states with low overall literacy rates. So even if the bottom most states have good male literacy rates, female literacy rates are really low and that takes their overall literacy rate down. Thus these states really need to work on educating their females and increasing their literacy rate."
   ]
  },
  {
   "cell_type": "markdown",
   "metadata": {},
   "source": [
    "3. P_URB_POP"
   ]
  },
  {
   "cell_type": "markdown",
   "metadata": {},
   "source": [
    "### [Step 3] Data Preparation:\n",
    "\n",
    "Here will create `P_RUR_POP` which is 100 - urban population proportion. This will help us in comparing the rural and urban population proportions."
   ]
  },
  {
   "cell_type": "code",
   "execution_count": 36,
   "metadata": {},
   "outputs": [
    {
     "data": {
      "text/plain": [
       "'Basic data from Census 2011: Percentage Urban Population'"
      ]
     },
     "execution_count": 36,
     "metadata": {},
     "output_type": "execute_result"
    }
   ],
   "source": [
    "display_desc('P_URB_POP')"
   ]
  },
  {
   "cell_type": "code",
   "execution_count": 37,
   "metadata": {},
   "outputs": [],
   "source": [
    "top_bottom['P_RUR_POP'] = 100 - top_bottom['P_URB_POP']"
   ]
  },
  {
   "cell_type": "code",
   "execution_count": 38,
   "metadata": {},
   "outputs": [
    {
     "data": {
      "text/plain": [
       "<matplotlib.axes._subplots.AxesSubplot at 0x7f10430dcc18>"
      ]
     },
     "execution_count": 38,
     "metadata": {},
     "output_type": "execute_result"
    },
    {
     "data": {
      "image/png": "[encoded data removed]",
      "text/plain": [
       "<Figure size 720x360 with 1 Axes>"
      ]
     },
     "metadata": {},
     "output_type": "display_data"
    }
   ],
   "source": [
    "top_bottom.plot(y = ['P_URB_POP', 'P_RUR_POP'], kind = 'bar', figsize = (10,5))"
   ]
  },
  {
   "cell_type": "markdown",
   "metadata": {},
   "source": [
    "Here we see a pretty obvious but important component that differentiates our top 3 and bottom 3 states. The difference between rural and urban population is much much bigger in the bottom 3.\n",
    "\n",
    "The rural population percentage in the bottom 3 states is much more than the rural population percentage in the top 3. That's an important factor to note. People living in rural areas lead a very different life compared to the people living in urban areas. There is less motivation to go to school in rural areas as a lot of people tend to take up their parents profession or business. Also, often children are made to skip school and work at the farm."
   ]
  },
  {
   "cell_type": "markdown",
   "metadata": {},
   "source": [
    "4. SEXRATIO"
   ]
  },
  {
   "cell_type": "markdown",
   "metadata": {},
   "source": [
    "Sex ratio is the no. of females per 1000 males"
   ]
  },
  {
   "cell_type": "code",
   "execution_count": 39,
   "metadata": {},
   "outputs": [
    {
     "data": {
      "text/plain": [
       "930.8888888888889"
      ]
     },
     "execution_count": 39,
     "metadata": {},
     "output_type": "execute_result"
    }
   ],
   "source": [
    "# Approximate National average \n",
    "elementary.SEXRATIO.mean()"
   ]
  },
  {
   "cell_type": "code",
   "execution_count": 40,
   "metadata": {},
   "outputs": [
    {
     "data": {
      "text/plain": [
       "STATNAME\n",
       "KERALA               1084\n",
       "LAKSHADWEEP           946\n",
       "MIZORAM               975\n",
       "BIHAR                 916\n",
       "ARUNACHAL PRADESH     920\n",
       "RAJASTHAN             926\n",
       "Name: SEXRATIO, dtype: int64"
      ]
     },
     "execution_count": 40,
     "metadata": {},
     "output_type": "execute_result"
    }
   ],
   "source": [
    "top_bottom.SEXRATIO"
   ]
  },
  {
   "cell_type": "code",
   "execution_count": 41,
   "metadata": {},
   "outputs": [
    {
     "data": {
      "text/plain": [
       "<matplotlib.axes._subplots.AxesSubplot at 0x7f1043050358>"
      ]
     },
     "execution_count": 41,
     "metadata": {},
     "output_type": "execute_result"
    },
    {
     "data": {
      "image/png": "[encoded data removed]",
      "text/plain": [
       "<Figure size 432x288 with 1 Axes>"
      ]
     },
     "metadata": {},
     "output_type": "display_data"
    }
   ],
   "source": [
    "top_bottom.plot(y ='SEXRATIO', kind = 'bar')"
   ]
  },
  {
   "cell_type": "code",
   "execution_count": 42,
   "metadata": {},
   "outputs": [
    {
     "data": {
      "text/plain": [
       "<matplotlib.axes._subplots.AxesSubplot at 0x7f1042fbf1d0>"
      ]
     },
     "execution_count": 42,
     "metadata": {},
     "output_type": "execute_result"
    },
    {
     "data": {
      "image/png": "[encoded data removed]",
      "text/plain": [
       "<Figure size 720x504 with 1 Axes>"
      ]
     },
     "metadata": {},
     "output_type": "display_data"
    }
   ],
   "source": [
    "# Lets include more states in the comparison (considering the top and bottom 10 states)\n",
    "elementary.sort_values(by = 'OVERALL_LI', inplace=True)\n",
    "pd.concat([elementary.head(10),elementary.tail(10)], axis = 1, sort = False).plot(kind= 'bar', y = 'SEXRATIO', figsize = (10,7),width = 1)"
   ]
  },
  {
   "cell_type": "code",
   "execution_count": 43,
   "metadata": {},
   "outputs": [
    {
     "data": {
      "text/html": [
       "<div>\n",
       "<style scoped>\n",
       "    .dataframe tbody tr th:only-of-type {\n",
       "        vertical-align: middle;\n",
       "    }\n",
       "\n",
       "    .dataframe tbody tr th {\n",
       "        vertical-align: top;\n",
       "    }\n",
       "\n",
       "    .dataframe thead th {\n",
       "        text-align: right;\n",
       "    }\n",
       "</style>\n",
       "<table border=\"1\" class=\"dataframe\">\n",
       "  <thead>\n",
       "    <tr style=\"text-align: right;\">\n",
       "      <th></th>\n",
       "      <th>SEXRATIO</th>\n",
       "      <th>OVERALL_LI</th>\n",
       "    </tr>\n",
       "  </thead>\n",
       "  <tbody>\n",
       "    <tr>\n",
       "      <th>SEXRATIO</th>\n",
       "      <td>1.000000</td>\n",
       "      <td>-0.037555</td>\n",
       "    </tr>\n",
       "    <tr>\n",
       "      <th>OVERALL_LI</th>\n",
       "      <td>-0.037555</td>\n",
       "      <td>1.000000</td>\n",
       "    </tr>\n",
       "  </tbody>\n",
       "</table>\n",
       "</div>"
      ],
      "text/plain": [
       "            SEXRATIO  OVERALL_LI\n",
       "SEXRATIO    1.000000   -0.037555\n",
       "OVERALL_LI -0.037555    1.000000"
      ]
     },
     "execution_count": 43,
     "metadata": {},
     "output_type": "execute_result"
    }
   ],
   "source": [
    "elementary.loc[:,['SEXRATIO','OVERALL_LI']].corr()"
   ]
  },
  {
   "cell_type": "markdown",
   "metadata": {},
   "source": [
    "Clearly the sex ratio has nothing to do with the literacy level.The graphs dont show sex ratio affecting the literacy rate. Also the correlation's too weak. "
   ]
  },
  {
   "cell_type": "markdown",
   "metadata": {},
   "source": [
    "5. P_SC_POP and P_ST_POP"
   ]
  },
  {
   "cell_type": "code",
   "execution_count": 44,
   "metadata": {},
   "outputs": [
    {
     "name": "stdout",
     "output_type": "stream",
     "text": [
      "Basic data from Census 2011: Percentage SC Population\n",
      "Basic data from Census 2011: Percentage ST Population\n"
     ]
    }
   ],
   "source": [
    "print(display_desc('P_SC_POP'))\n",
    "print(display_desc('P_ST_POP'))"
   ]
  },
  {
   "cell_type": "code",
   "execution_count": 45,
   "metadata": {},
   "outputs": [],
   "source": [
    "top_bottom['SC_ST_POP'] = top_bottom.P_SC_POP + top_bottom.P_ST_POP"
   ]
  },
  {
   "cell_type": "code",
   "execution_count": 46,
   "metadata": {},
   "outputs": [
    {
     "data": {
      "text/plain": [
       "<matplotlib.axes._subplots.AxesSubplot at 0x7f1042fb4cc0>"
      ]
     },
     "execution_count": 46,
     "metadata": {},
     "output_type": "execute_result"
    },
    {
     "data": {
      "image/png": "[encoded data removed]",
      "text/plain": [
       "<Figure size 1080x504 with 1 Axes>"
      ]
     },
     "metadata": {},
     "output_type": "display_data"
    }
   ],
   "source": [
    "top_bottom.plot(y = ['SC_ST_POP','P_SC_POP','P_ST_POP'], kind = 'bar', figsize = (15,7))"
   ]
  },
  {
   "cell_type": "markdown",
   "metadata": {},
   "source": [
    "Clearly, the overall literacy rate doesn't depend on the SC and ST population proportions because these are very different for all the above states."
   ]
  },
  {
   "cell_type": "markdown",
   "metadata": {},
   "source": [
    "Now we will try to analyse some school related features and see if they affect the overall literacy rate."
   ]
  },
  {
   "cell_type": "code",
   "execution_count": 47,
   "metadata": {
    "scrolled": true
   },
   "outputs": [
    {
     "name": "stdout",
     "output_type": "stream",
     "text": [
      "    Field name                                        Description\n",
      "28      SCHTOT                         Schools By Category: Total\n",
      "37     SCHTOTG             Schools by Category: Government: Total\n",
      "46     SCHTOTP               Schools by Category: Private : Total\n",
      "55     SCHTOTM  Schools by Category: Madarsas & Unrecognised: ...\n",
      "64    SCHTOTGR      Government Schools by Category - Rural: Total\n",
      "73    SCHTOTGA    Schools by Category: Government & Aided : Total\n",
      "82    SCHTOTPR         Private Schools by Category - Rural: Total\n",
      "91   SCHBOYTOT              Schools by Category: Boys Only: Total\n",
      "100  SCHGIRTOT             Schools by Category: Girls Only: Total\n"
     ]
    }
   ],
   "source": [
    "# These are all the 'school total' related variables that we can explore\n",
    "meta_sch = meta_elementary[meta_elementary['Field name'].str.contains(r'^SCH\\w*TOT')]\n",
    "print(meta_sch)"
   ]
  },
  {
   "cell_type": "markdown",
   "metadata": {},
   "source": [
    "6. KIDSPERSCH (Kids per school)(For primary/elementary schools)"
   ]
  },
  {
   "cell_type": "markdown",
   "metadata": {},
   "source": [
    "### [Step 3] Data Preparation:\n",
    "\n",
    "We will be making `KIDSPERSCH` using `SCHKIDS`, `TOT_6_10_15` and `TOT_11_13_15` as this will let us check if the number of kids per school is a factor that determines the overall literacy rate or not."
   ]
  },
  {
   "cell_type": "code",
   "execution_count": 48,
   "metadata": {},
   "outputs": [
    {
     "data": {
      "text/plain": [
       "'Schools By Category: Total'"
      ]
     },
     "execution_count": 48,
     "metadata": {},
     "output_type": "execute_result"
    }
   ],
   "source": [
    "display_desc('SCHTOT')"
   ]
  },
  {
   "cell_type": "code",
   "execution_count": 49,
   "metadata": {},
   "outputs": [
    {
     "data": {
      "text/plain": [
       "'Projected Population : Age Group 6 to 10'"
      ]
     },
     "execution_count": 49,
     "metadata": {},
     "output_type": "execute_result"
    }
   ],
   "source": [
    "display_desc('TOT_6_10_15')"
   ]
  },
  {
   "cell_type": "code",
   "execution_count": 50,
   "metadata": {},
   "outputs": [
    {
     "data": {
      "text/plain": [
       "'Projected Population : Age Group 11 to 13'"
      ]
     },
     "execution_count": 50,
     "metadata": {},
     "output_type": "execute_result"
    }
   ],
   "source": [
    "display_desc('TOT_11_13_15')"
   ]
  },
  {
   "cell_type": "code",
   "execution_count": 51,
   "metadata": {},
   "outputs": [
    {
     "data": {
      "text/plain": [
       "STATNAME\n",
       "KERALA                16458\n",
       "LAKSHADWEEP              41\n",
       "MIZORAM                3072\n",
       "BIHAR                 80166\n",
       "ARUNACHAL PRADESH      4012\n",
       "RAJASTHAN            107931\n",
       "Name: SCHTOT, dtype: int64"
      ]
     },
     "execution_count": 51,
     "metadata": {},
     "output_type": "execute_result"
    }
   ],
   "source": [
    "# Total no. of schools for the top 3 and bottom 3 states \n",
    "top_bottom.SCHTOT"
   ]
  },
  {
   "cell_type": "code",
   "execution_count": 52,
   "metadata": {},
   "outputs": [],
   "source": [
    "# No. of kids in the age group 6-15, i.e, elementary schoolkids\n",
    "top_bottom['SCHKIDS'] = top_bottom.TOT_6_10_15 + top_bottom.TOT_11_13_15\n",
    "# No. of kids per school\n",
    "top_bottom['KIDSPERSCH'] = top_bottom.SCHKIDS/top_bottom.SCHTOT"
   ]
  },
  {
   "cell_type": "code",
   "execution_count": 53,
   "metadata": {},
   "outputs": [
    {
     "data": {
      "text/plain": [
       "<matplotlib.axes._subplots.AxesSubplot at 0x7f1042e7dc88>"
      ]
     },
     "execution_count": 53,
     "metadata": {},
     "output_type": "execute_result"
    },
    {
     "data": {
      "image/png": "[encoded data removed]",
      "text/plain": [
       "<Figure size 432x288 with 1 Axes>"
      ]
     },
     "metadata": {},
     "output_type": "display_data"
    }
   ],
   "source": [
    "top_bottom.plot(y = 'KIDSPERSCH', kind = 'bar',)"
   ]
  },
  {
   "cell_type": "markdown",
   "metadata": {},
   "source": [
    "We see that the no. of kids per school is not a good measure to differentiate between the top and bottom 3 states. Though Mizoram has has the lowest number of kids per school, Arunachal Pradesh and Rajasthan are closeby. Bihar has the max no. of kids per school. \n",
    "\n",
    "One reason why this measure failed to differentiate could be that we dont know the size of the schools and thus there could be really big schools in Kerala but really small schools (generally speaking) in Arunachal Pradesh. Thus we don't get to know the no. of students each school can enroll and manage effeciently. No. of teachers is too a huge factor here. Perhaps no. of classes or sections would have been a better measure here as we would have gotten to know the average class strength."
   ]
  },
  {
   "cell_type": "markdown",
   "metadata": {},
   "source": [
    "7. TOTCLS1g and KIDSPERCL"
   ]
  },
  {
   "cell_type": "markdown",
   "metadata": {},
   "source": [
    "### [Step 3] Data Preparation:\n",
    "\n",
    "We will making `KIDSPERCL` (Kids per class) as we think that it might be a better indicator of the overall literacy rate of the state."
   ]
  },
  {
   "cell_type": "code",
   "execution_count": 54,
   "metadata": {},
   "outputs": [
    {
     "data": {
      "text/plain": [
       "'Total Classrooms: Primary Only - Primary Only'"
      ]
     },
     "execution_count": 54,
     "metadata": {},
     "output_type": "execute_result"
    }
   ],
   "source": [
    "display_desc('TOTCLS1G')"
   ]
  },
  {
   "cell_type": "code",
   "execution_count": 55,
   "metadata": {},
   "outputs": [
    {
     "data": {
      "text/plain": [
       "<matplotlib.axes._subplots.AxesSubplot at 0x7f104e804c88>"
      ]
     },
     "execution_count": 55,
     "metadata": {},
     "output_type": "execute_result"
    },
    {
     "data": {
      "image/png": "[encoded data removed]",
      "text/plain": [
       "<Figure size 432x288 with 1 Axes>"
      ]
     },
     "metadata": {},
     "output_type": "display_data"
    }
   ],
   "source": [
    "top_bottom['TOTCLS1G'].plot(kind= 'bar')"
   ]
  },
  {
   "cell_type": "code",
   "execution_count": 56,
   "metadata": {},
   "outputs": [],
   "source": [
    "# primary kids per class\n",
    "top_bottom['KIDSPERCL'] = top_bottom['SCHKIDS']/top_bottom['TOTCLS1G']"
   ]
  },
  {
   "cell_type": "code",
   "execution_count": 57,
   "metadata": {},
   "outputs": [
    {
     "data": {
      "text/plain": [
       "<matplotlib.axes._subplots.AxesSubplot at 0x7f104e879cf8>"
      ]
     },
     "execution_count": 57,
     "metadata": {},
     "output_type": "execute_result"
    },
    {
     "data": {
      "image/png": "[encoded data removed]",
      "text/plain": [
       "<Figure size 432x288 with 1 Axes>"
      ]
     },
     "metadata": {},
     "output_type": "display_data"
    }
   ],
   "source": [
    "top_bottom['KIDSPERCL'].plot(kind= 'bar')"
   ]
  },
  {
   "cell_type": "code",
   "execution_count": 58,
   "metadata": {},
   "outputs": [],
   "source": [
    "elem = elementary.copy(deep = True)\n",
    "elem['SCHKIDS'] = elem.TOT_6_10_15 + elem.TOT_11_13_15\n",
    "elem['KIDSPERCL'] = elem['SCHKIDS']/elem['TOTCLS1G']\n",
    "elem.sort_values(by = 'OVERALL_LI',ascending = False,inplace = True)"
   ]
  },
  {
   "cell_type": "code",
   "execution_count": 59,
   "metadata": {},
   "outputs": [
    {
     "data": {
      "text/plain": [
       "<matplotlib.axes._subplots.AxesSubplot at 0x7f104e74a6d8>"
      ]
     },
     "execution_count": 59,
     "metadata": {},
     "output_type": "execute_result"
    },
    {
     "data": {
      "image/png": "[encoded data removed]",
      "text/plain": [
       "<Figure size 720x504 with 1 Axes>"
      ]
     },
     "metadata": {},
     "output_type": "display_data"
    }
   ],
   "source": [
    "pd.concat([elem.head(5),elem.tail(5)], axis = 0, sort = False).plot(kind= 'bar', y = 'KIDSPERCL', figsize = (10,7),width = 1)"
   ]
  },
  {
   "cell_type": "code",
   "execution_count": 60,
   "metadata": {},
   "outputs": [
    {
     "data": {
      "text/html": [
       "<div>\n",
       "<style scoped>\n",
       "    .dataframe tbody tr th:only-of-type {\n",
       "        vertical-align: middle;\n",
       "    }\n",
       "\n",
       "    .dataframe tbody tr th {\n",
       "        vertical-align: top;\n",
       "    }\n",
       "\n",
       "    .dataframe thead th {\n",
       "        text-align: right;\n",
       "    }\n",
       "</style>\n",
       "<table border=\"1\" class=\"dataframe\">\n",
       "  <thead>\n",
       "    <tr style=\"text-align: right;\">\n",
       "      <th></th>\n",
       "      <th>KIDSPERCL</th>\n",
       "      <th>OVERALL_LI</th>\n",
       "    </tr>\n",
       "  </thead>\n",
       "  <tbody>\n",
       "    <tr>\n",
       "      <th>KIDSPERCL</th>\n",
       "      <td>1.00000</td>\n",
       "      <td>0.16714</td>\n",
       "    </tr>\n",
       "    <tr>\n",
       "      <th>OVERALL_LI</th>\n",
       "      <td>0.16714</td>\n",
       "      <td>1.00000</td>\n",
       "    </tr>\n",
       "  </tbody>\n",
       "</table>\n",
       "</div>"
      ],
      "text/plain": [
       "            KIDSPERCL  OVERALL_LI\n",
       "KIDSPERCL     1.00000     0.16714\n",
       "OVERALL_LI    0.16714     1.00000"
      ]
     },
     "execution_count": 60,
     "metadata": {},
     "output_type": "execute_result"
    }
   ],
   "source": [
    "elem[['KIDSPERCL','OVERALL_LI']].corr()"
   ]
  },
  {
   "cell_type": "markdown",
   "metadata": {},
   "source": [
    "We see that there is a difference in the no. of kids per class, but it is nt significant.Though Bihar and Rajasthan have a very high no. of primary kids per class. The top 5 states on an average have lesser kids per class when compared to the bottom 5 states with the exception of Arunachal Pradesh."
   ]
  },
  {
   "cell_type": "markdown",
   "metadata": {},
   "source": [
    "8. Comparing the percentage of different types of Primary schools"
   ]
  },
  {
   "cell_type": "markdown",
   "metadata": {},
   "source": [
    "### [Step 3] Data Preparation:\n",
    "\n",
    "We can also take a look at the different types of schools in these states. It might be that the states having a high literacy rate have more private schools than govt. schools. For this purpose, we do some data preparation to allow for plotting of the type of schools."
   ]
  },
  {
   "cell_type": "code",
   "execution_count": 61,
   "metadata": {},
   "outputs": [
    {
     "data": {
      "text/plain": [
       "<matplotlib.legend.Legend at 0x7f104e89abe0>"
      ]
     },
     "execution_count": 61,
     "metadata": {},
     "output_type": "execute_result"
    },
    {
     "data": {
      "image/png": "[encoded data removed]",
      "text/plain": [
       "<Figure size 1296x576 with 1 Axes>"
      ]
     },
     "metadata": {},
     "output_type": "display_data"
    }
   ],
   "source": [
    "# Plot of the % of elementary private, govt schools and Madarsas and comparing them with the national avg.\n",
    "schtotg_avg = (elementary.SCHTOTG/elementary.SCHTOT).mean()\n",
    "schtotp_avg = (elementary.SCHTOTP/elementary.SCHTOT).mean()\n",
    "schtotm_avg = (elementary.SCHTOTM/elementary.SCHTOT).mean()\n",
    "\n",
    "top_3_elem['SCHTOTG_P'] = (top_3_elem.SCHTOTG/top_3_elem.SCHTOT)\n",
    "top_3_elem['SCHTOTP_P'] = (top_3_elem.SCHTOTP/top_3_elem.SCHTOT)\n",
    "top_3_elem['SCHTOTM_P'] = (top_3_elem.SCHTOTM/top_3_elem.SCHTOT)\n",
    "\n",
    "bottom_3_elem['SCHTOTG_P'] = (bottom_3_elem.SCHTOTG/bottom_3_elem.SCHTOT)\n",
    "bottom_3_elem['SCHTOTP_P'] = (bottom_3_elem.SCHTOTP/bottom_3_elem.SCHTOT)\n",
    "bottom_3_elem['SCHTOTM_P'] = (bottom_3_elem.SCHTOTM/bottom_3_elem.SCHTOT)\n",
    "\n",
    "pd.concat([top_3_elem, bottom_3_elem], axis = 1, sort = False).plot(y = ['SCHTOTP_P','SCHTOTG_P','SCHTOTM_P'],\\\n",
    "                                                                    figsize = (18,8), kind = 'bar',\\\n",
    "                                                                    color =['blue','blue','g','g','black','black'], \\\n",
    "                                                                       )\n",
    "\n",
    "plt.plot([schtotg_avg]*8, linestyle ='--',color = 'g') # National avg for % of govt schools\n",
    "\n",
    "plt.plot([schtotp_avg]*8, linestyle ='--',color = 'blue') # National avg for % of private schools\n",
    "\n",
    "plt.plot([schtotm_avg]*8, linestyle ='--',color= 'black') # National avg for % of Madarsas\n",
    "\n",
    "plt.legend(['Pvt','Govt','Madarsas'],loc = 1)"
   ]
  },
  {
   "cell_type": "markdown",
   "metadata": {},
   "source": [
    "From here we can clearly note the following: \n",
    "* Lakshadweep has only govt schools.\n",
    "* Kerala has the highest number of Pvt schools share in the total schools and is the only state here which has more Pvt schools than Govt schools. It has also got an exceptionally high number of Madarasa and the number of govt schools is much less than the national average.\n",
    "* Bihar and Arunachal Pradesh have really less pvt schools compared to the govt schools. Their % of govt school is more than the national avg.\n",
    "* Rajasthan has around 35% pvt schools which is large compared to its no. of govt schools.\n",
    "\n",
    "All of this just shows us that even the share of pvt and govt schools isnt related to the literacy rate."
   ]
  },
  {
   "cell_type": "markdown",
   "metadata": {},
   "source": [
    "9. CONTIE"
   ]
  },
  {
   "cell_type": "code",
   "execution_count": 62,
   "metadata": {},
   "outputs": [
    {
     "data": {
      "text/plain": [
       "'Grants: School Development - Expended'"
      ]
     },
     "execution_count": 62,
     "metadata": {},
     "output_type": "execute_result"
    }
   ],
   "source": [
    "display_desc('CONTIE')"
   ]
  },
  {
   "cell_type": "code",
   "execution_count": 63,
   "metadata": {},
   "outputs": [
    {
     "data": {
      "text/html": [
       "<div>\n",
       "<style scoped>\n",
       "    .dataframe tbody tr th:only-of-type {\n",
       "        vertical-align: middle;\n",
       "    }\n",
       "\n",
       "    .dataframe tbody tr th {\n",
       "        vertical-align: top;\n",
       "    }\n",
       "\n",
       "    .dataframe thead th {\n",
       "        text-align: right;\n",
       "    }\n",
       "</style>\n",
       "<table border=\"1\" class=\"dataframe\">\n",
       "  <thead>\n",
       "    <tr style=\"text-align: right;\">\n",
       "      <th></th>\n",
       "      <th>CONTIE</th>\n",
       "      <th>OVERALL_LI</th>\n",
       "    </tr>\n",
       "  </thead>\n",
       "  <tbody>\n",
       "    <tr>\n",
       "      <th>CONTIE</th>\n",
       "      <td>1.000000</td>\n",
       "      <td>-0.481281</td>\n",
       "    </tr>\n",
       "    <tr>\n",
       "      <th>OVERALL_LI</th>\n",
       "      <td>-0.481281</td>\n",
       "      <td>1.000000</td>\n",
       "    </tr>\n",
       "  </tbody>\n",
       "</table>\n",
       "</div>"
      ],
      "text/plain": [
       "              CONTIE  OVERALL_LI\n",
       "CONTIE      1.000000   -0.481281\n",
       "OVERALL_LI -0.481281    1.000000"
      ]
     },
     "execution_count": 63,
     "metadata": {},
     "output_type": "execute_result"
    }
   ],
   "source": [
    "elem[['CONTIE','OVERALL_LI']].corr()"
   ]
  },
  {
   "cell_type": "code",
   "execution_count": 64,
   "metadata": {},
   "outputs": [
    {
     "data": {
      "text/plain": [
       "<matplotlib.axes._subplots.AxesSubplot at 0x7f1042c1cd30>"
      ]
     },
     "execution_count": 64,
     "metadata": {},
     "output_type": "execute_result"
    },
    {
     "data": {
      "image/png": "[encoded data removed]",
      "text/plain": [
       "<Figure size 432x288 with 1 Axes>"
      ]
     },
     "metadata": {},
     "output_type": "display_data"
    }
   ],
   "source": [
    "top_bottom.CONTIE.plot(kind = 'bar')"
   ]
  },
  {
   "cell_type": "markdown",
   "metadata": {},
   "source": [
    "The above says that the more the overall literacy level is, the lesser the grants would have been given to the states for school development. That does make sense as states with lesser education standards and literacy level would be requiring lesser funds as they already have good infrastructure in place. It also depends on how many schools the state has or dense the population is. Lakshadweep, Mizoram and Arunachal Pradesh all are small states and thus their fund are minimal compared to Bihar and Rajasthans."
   ]
  },
  {
   "cell_type": "markdown",
   "metadata": {},
   "source": [
    "10. C9_B, C9_G, C8_B and C8_G"
   ]
  },
  {
   "cell_type": "markdown",
   "metadata": {},
   "source": [
    "### [Step 3] Data Preparation:\n",
    "\n",
    "Finally, here we calculate the dropout rate from class 8th to 9th. For that, we first sum up `C9_G` and `C9_B` to calculate the total no. of enrollments for class 9th. We do the same thing for class 8th. Then we subtract the total enrollments for class 9th from class 8th and divide this by the total enrollments for class 8th  to find out the proportion of students who dropped out from 8th to 9th"
   ]
  },
  {
   "cell_type": "code",
   "execution_count": 65,
   "metadata": {},
   "outputs": [
    {
     "data": {
      "text/plain": [
       "'Enrolment By Grade: Boys - Grade 9'"
      ]
     },
     "execution_count": 65,
     "metadata": {},
     "output_type": "execute_result"
    }
   ],
   "source": [
    "display_desc('C9_B')"
   ]
  },
  {
   "cell_type": "code",
   "execution_count": 66,
   "metadata": {},
   "outputs": [
    {
     "data": {
      "text/plain": [
       "'Enrolment By Grade: Girls - Grade 9'"
      ]
     },
     "execution_count": 66,
     "metadata": {},
     "output_type": "execute_result"
    }
   ],
   "source": [
    "display_desc('C9_G')"
   ]
  },
  {
   "cell_type": "code",
   "execution_count": 67,
   "metadata": {},
   "outputs": [
    {
     "data": {
      "text/plain": [
       "'Enrolment By Grade: Boys - Grade 8'"
      ]
     },
     "execution_count": 67,
     "metadata": {},
     "output_type": "execute_result"
    }
   ],
   "source": [
    "display_desc('C8_B')"
   ]
  },
  {
   "cell_type": "code",
   "execution_count": 68,
   "metadata": {},
   "outputs": [
    {
     "data": {
      "text/plain": [
       "'Enrolment By Grade: Girls - Grade 8'"
      ]
     },
     "execution_count": 68,
     "metadata": {},
     "output_type": "execute_result"
    }
   ],
   "source": [
    "display_desc('C8_G')"
   ]
  },
  {
   "cell_type": "markdown",
   "metadata": {},
   "source": [
    "We can use the above 4 features to calculate the percentage of children dropping out in top 3 and bottom 3 states from class 8th to class 9th (primary to secondary)."
   ]
  },
  {
   "cell_type": "code",
   "execution_count": 69,
   "metadata": {},
   "outputs": [],
   "source": [
    "elementary['C9_TOTAL'] = elementary.loc[:,'C9_B'] + elementary.loc[:,'C9_G']"
   ]
  },
  {
   "cell_type": "code",
   "execution_count": 70,
   "metadata": {},
   "outputs": [],
   "source": [
    "elementary['C8_TOTAL'] = elementary.loc[:,'C8_B'] + elementary.loc[:,'C8_G']"
   ]
  },
  {
   "cell_type": "code",
   "execution_count": 71,
   "metadata": {},
   "outputs": [],
   "source": [
    "elementary['DROP_8_9'] = (elementary.C8_TOTAL - elementary.C9_TOTAL)/elementary.C8_TOTAL"
   ]
  },
  {
   "cell_type": "code",
   "execution_count": 72,
   "metadata": {},
   "outputs": [],
   "source": [
    "top_bottom_drop = pd.concat([elementary.sort_values('OVERALL_LI').tail(3).DROP_8_9, \n",
    "                             elementary.sort_values('OVERALL_LI').head(3).DROP_8_9], axis = 0)"
   ]
  },
  {
   "cell_type": "code",
   "execution_count": 73,
   "metadata": {},
   "outputs": [
    {
     "data": {
      "text/plain": [
       "STATNAME\n",
       "MIZORAM             -0.025558\n",
       "LAKSHADWEEP         -0.292279\n",
       "KERALA              -0.038128\n",
       "BIHAR                0.216246\n",
       "TELANGANA            0.038714\n",
       "ARUNACHAL PRADESH    0.102825\n",
       "Name: DROP_8_9, dtype: float64"
      ]
     },
     "execution_count": 73,
     "metadata": {},
     "output_type": "execute_result"
    }
   ],
   "source": [
    "top_bottom_drop"
   ]
  },
  {
   "cell_type": "code",
   "execution_count": 74,
   "metadata": {},
   "outputs": [
    {
     "data": {
      "text/plain": [
       "<matplotlib.axes._subplots.AxesSubplot at 0x7f104e8ad240>"
      ]
     },
     "execution_count": 74,
     "metadata": {},
     "output_type": "execute_result"
    },
    {
     "data": {
      "image/png": "[encoded data removed]",
      "text/plain": [
       "<Figure size 432x288 with 1 Axes>"
      ]
     },
     "metadata": {},
     "output_type": "display_data"
    }
   ],
   "source": [
    "top_bottom_drop.plot(kind='bar', y = 'DROP_8_9', x = 'STATNAME')"
   ]
  },
  {
   "cell_type": "code",
   "execution_count": 75,
   "metadata": {},
   "outputs": [
    {
     "data": {
      "text/html": [
       "<div>\n",
       "<style scoped>\n",
       "    .dataframe tbody tr th:only-of-type {\n",
       "        vertical-align: middle;\n",
       "    }\n",
       "\n",
       "    .dataframe tbody tr th {\n",
       "        vertical-align: top;\n",
       "    }\n",
       "\n",
       "    .dataframe thead th {\n",
       "        text-align: right;\n",
       "    }\n",
       "</style>\n",
       "<table border=\"1\" class=\"dataframe\">\n",
       "  <thead>\n",
       "    <tr style=\"text-align: right;\">\n",
       "      <th></th>\n",
       "      <th>DROP_8_9</th>\n",
       "      <th>OVERALL_LI</th>\n",
       "    </tr>\n",
       "  </thead>\n",
       "  <tbody>\n",
       "    <tr>\n",
       "      <th>DROP_8_9</th>\n",
       "      <td>1.000000</td>\n",
       "      <td>-0.703246</td>\n",
       "    </tr>\n",
       "    <tr>\n",
       "      <th>OVERALL_LI</th>\n",
       "      <td>-0.703246</td>\n",
       "      <td>1.000000</td>\n",
       "    </tr>\n",
       "  </tbody>\n",
       "</table>\n",
       "</div>"
      ],
      "text/plain": [
       "            DROP_8_9  OVERALL_LI\n",
       "DROP_8_9    1.000000   -0.703246\n",
       "OVERALL_LI -0.703246    1.000000"
      ]
     },
     "execution_count": 75,
     "metadata": {},
     "output_type": "execute_result"
    }
   ],
   "source": [
    "elementary[['DROP_8_9','OVERALL_LI']].corr()"
   ]
  },
  {
   "cell_type": "markdown",
   "metadata": {},
   "source": [
    "We find the drop out rate from 8th to 9th(primary to secondary) a pretty important feature in distinguishing between the top 3 and bottom 3 states. It is an obvious reason but no one knew that there would be this much of a difference. The top 3 states have more admissions in 9th than they had in 8th while the bottom 3 have the opposite going on. "
   ]
  },
  {
   "cell_type": "markdown",
   "metadata": {},
   "source": [
    "Thus, the key takeaways would be from this analysis would be :\n",
    "\n",
    "* States should try to increase their female literacy rate by  making it safer for girls to travel, making girl only schools with female teachers, providing special incentives to the families to get their girl child to omplete her schooling etc.\n",
    "* People living in rural areas lead a very different life compared to the people living in urban areas. There is less motivation to go to school in rural areas as a lot of people tend to take up their parent's profession or business. Also, often children are made to skip school and work at the farm. The state should provide more incentives to ensure that families living in rural areas get their children to complete their schooling.\n",
    "* Dropout rate from 8th to 9th class should be decreased and schemes should be made to ensure that this dropout rate declines. Causes for this dropout rate should be looked into and be dealt with."
   ]
  },
  {
   "cell_type": "markdown",
   "metadata": {},
   "source": [
    "## 3. Which class is the dropout rate maximum in ?"
   ]
  },
  {
   "cell_type": "markdown",
   "metadata": {},
   "source": [
    "### [Step 3] Data Preparation:\n",
    "\n",
    "To answer our final question, we must calculate the dropout rates for all classes given in the dataset. So we start by summing up the boys and the girls enrollment for each class. We form a dataframe out of this and then take the sum for each class, i.e, sum up total enrollments for all states. Then we calculate the dropout rate for each class and plot it"
   ]
  },
  {
   "cell_type": "code",
   "execution_count": 76,
   "metadata": {},
   "outputs": [],
   "source": [
    "# setting the index as state name for easy coding\n",
    "elementary.set_index('STATNAME', inplace = True)"
   ]
  },
  {
   "cell_type": "code",
   "execution_count": 77,
   "metadata": {},
   "outputs": [],
   "source": [
    "# class_columns contains all the columns related to class enrollments\n",
    "class_b_columns = elementary.columns[elementary.columns.str.contains('C\\d_[B]$',case = False, regex = True)].tolist()\n",
    "class_g_columns = elementary.columns[elementary.columns.str.contains('C\\d_[G]$',case = False, regex = True)].tolist()"
   ]
  },
  {
   "cell_type": "code",
   "execution_count": 78,
   "metadata": {},
   "outputs": [],
   "source": [
    "# total enrollments in each class\n",
    "sums_classes_df = pd.DataFrame(np.matrix(elementary[class_b_columns]) + np.matrix(elementary[class_g_columns]))"
   ]
  },
  {
   "cell_type": "code",
   "execution_count": 79,
   "metadata": {},
   "outputs": [],
   "source": [
    "# storing the column names and index for above dataframe\n",
    "sums_classes_cols=[i[:2] for i in class_b_columns]\n",
    "sums_classes_index = elementary.index"
   ]
  },
  {
   "cell_type": "code",
   "execution_count": 80,
   "metadata": {},
   "outputs": [],
   "source": [
    "sums_classes_df.index = sums_classes_index\n",
    "sums_classes_df.columns = sums_classes_cols"
   ]
  },
  {
   "cell_type": "code",
   "execution_count": 81,
   "metadata": {},
   "outputs": [],
   "source": [
    "# totalling for columns\n",
    "totals = sums_classes_df.sum(axis = 0)"
   ]
  },
  {
   "cell_type": "code",
   "execution_count": 82,
   "metadata": {},
   "outputs": [],
   "source": [
    "dropout = []\n",
    "for i,_ in enumerate(totals):\n",
    "    try: \n",
    "        dropout.append((totals[i] - totals[i+1])/totals[i])\n",
    "    except:\n",
    "        pass"
   ]
  },
  {
   "cell_type": "code",
   "execution_count": 83,
   "metadata": {},
   "outputs": [
    {
     "data": {
      "text/plain": [
       "[0.049807894807547,\n",
       " 0.014726304017832778,\n",
       " -0.008486844753752712,\n",
       " 0.023597734638681263,\n",
       " 0.08056395873036064,\n",
       " 0.019658139068640237,\n",
       " 0.026063321302817914,\n",
       " 0.06841362994279623]"
      ]
     },
     "execution_count": 83,
     "metadata": {},
     "output_type": "execute_result"
    }
   ],
   "source": [
    "dropout"
   ]
  },
  {
   "cell_type": "code",
   "execution_count": 84,
   "metadata": {},
   "outputs": [
    {
     "data": {
      "text/plain": [
       "<BarContainer object of 8 artists>"
      ]
     },
     "execution_count": 84,
     "metadata": {},
     "output_type": "execute_result"
    },
    {
     "data": {
      "image/png": "[encoded data removed]",
      "text/plain": [
       "<Figure size 432x288 with 1 Axes>"
      ]
     },
     "metadata": {},
     "output_type": "display_data"
    }
   ],
   "source": [
    "plt.bar(x = range(2,10,1),height = dropout)"
   ]
  },
  {
   "cell_type": "markdown",
   "metadata": {},
   "source": [
    "We see from this given graph that the dropout rate was maximum in the 6th class followed by the 9th class and 2nd class. Class 4 saw a negative dropout rate, i.e, more students enrolled and less dropped out when moving from class 3 to class 4 and that is some really good news !\n",
    "\n",
    "The dropout rate for 5th to 6th was really high, 8.5%. One reason for this could be that when the child is old enough to be in 5th, he is usually old enough to do a lot of other work too. His parents might need him at the farm or at their business to help them and start earning. This is a huge problem, especially in the rural parts of India. An additional step here could be to compare the dropout rates between the rural and urban schools."
   ]
  },
  {
   "cell_type": "markdown",
   "metadata": {},
   "source": [
    "### We don't have a [Step 4] becuase we haven't modelled our data.\n",
    "\n",
    "### [Step 5] Results and Conclusions :\n",
    "\n",
    "We started out with a comparison of the literacy rates in the different states and union territories in India. We compared the Male and Female literacy rates in these states and saw that there was a huge difference in the states with a low overall literacy rate. The top 3 states were Kerala, Lakshadweep and Mizoram and the bottom 3 were Bihar, Telngana and Arunachal Pradesh.\n",
    "\n",
    "Next we saw that difference in male and female literacy rates, rural population proportion and dropout rates from 8th to 9th class played a huge role in separating the top 3 and bottom 3 states.\n",
    "\n",
    "Finally, the dropout rates in different classes were explored and while the dropout rate for 6th class was really high, more students had enrolled in class 4 than had dropped out.\n",
    "\n",
    "The literacy rate in India has been improving but there are some key issues that need to be tackled aggressively in order to improve the state of education in India. This is not just the job of the govt, but it is the duty of each and everyone living in the country. Hope to see the stats showing a much better India in the future."
   ]
  },
  {
   "cell_type": "markdown",
   "metadata": {},
   "source": [
    "## Yay. Done !! "
   ]
  }
 ],
 "metadata": {
  "kernelspec": {
   "display_name": "Python 3",
   "language": "python",
   "name": "python3"
  },
  "language_info": {
   "codemirror_mode": {
    "name": "ipython",
    "version": 3
   },
   "file_extension": ".py",
   "mimetype": "text/x-python",
   "name": "python",
   "nbconvert_exporter": "python",
   "pygments_lexer": "ipython3",
   "version": "3.6.5"
  }
 },
 "nbformat": 4,
 "nbformat_minor": 2
}
