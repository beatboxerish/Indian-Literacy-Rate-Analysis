{
 "cells": [
  {
   "cell_type": "markdown",
   "metadata": {},
   "source": [
    "*Note 1: This is the 2015-16 dataset. Lot of things might have been changed by now*"
   ]
  },
  {
   "cell_type": "markdown",
   "metadata": {},
   "source": [
    "*Note 2: I refer to features as Exogenous and predictors and response variable as endogenous variables sometimes*"
   ]
  },
  {
   "cell_type": "code",
   "execution_count": 750,
   "metadata": {},
   "outputs": [],
   "source": [
    "# Import libraries\n",
    "import pandas as pd\n",
    "import matplotlib.pyplot as plt\n",
    "import seaborn as sns\n",
    "from sklearn.preprocessing import StandardScaler\n",
    "from sklearn.decomposition import PCA\n",
    "from sklearn.model_selection import train_test_split\n",
    "from sklearn.linear_model import LinearRegression\n",
    "from sklearn.\n",
    "from scipy import stats\n",
    "%matplotlib inline"
   ]
  },
  {
   "cell_type": "code",
   "execution_count": 582,
   "metadata": {},
   "outputs": [],
   "source": [
    "# Reading in datasets\n",
    "district = pd.read_csv('ds/education_in_india/2015_16_Districtwise.csv')\n",
    "meta_district = pd.read_csv('ds/education_in_india/2015_16_Districtwise_Metadata.csv')\n",
    "elementary = pd.read_csv('ds/education_in_india/2015_16_Statewise_Elementary.csv')\n",
    "meta_elementary = pd.read_csv('ds/education_in_india/2015_16_Statewise_Elementary_Metadata.csv')\n",
    "secondary = pd.read_csv('ds/education_in_india/2015_16_Statewise_Secondary.csv')\n",
    "meta_secondary = pd.read_csv('ds/education_in_india/2015_16_Statewise_Secondary_Metadata.csv')\n",
    "\n",
    "# Names of the states have been given unnecessary spacing\n",
    "secondary.statname = secondary.statname.str.strip()"
   ]
  },
  {
   "cell_type": "markdown",
   "metadata": {},
   "source": [
    "We won't be working with district data to start with as it is too big compared to elementary and secondary. We should also be able to get out a lot of information from elem and second ds.\n",
    "\n",
    "Some functions that have been used throughout the notebook have been defined here:"
   ]
  },
  {
   "cell_type": "markdown",
   "metadata": {},
   "source": [
    "## Defining functions"
   ]
  },
  {
   "cell_type": "code",
   "execution_count": 583,
   "metadata": {},
   "outputs": [],
   "source": [
    "def sort_vals(df,col):\n",
    "    '''\n",
    "    Sorts values according to the column provided in ascending order and returns a dataframe with \n",
    "    index reset\n",
    "    \n",
    "    INPUT:\n",
    "    df - dataframe to be sorted\n",
    "    col - column to be sorted on\n",
    "    \n",
    "    OUTPUT:\n",
    "    df_new - sorted dataframe with index reset\n",
    "    \n",
    "    '''\n",
    "    df_new = df.sort_values(by = col)\n",
    "    df_new.reset_index().drop('index', axis = 1, inplace = True)\n",
    "    return df_new"
   ]
  },
  {
   "cell_type": "code",
   "execution_count": 584,
   "metadata": {},
   "outputs": [],
   "source": [
    "# We could just have used df.plot.barh method instead of the below. BOth of these output the same thing.\n",
    "def plot_barh(df, col1, col2, size = (10,10), title = None, xlabel = None):\n",
    "    '''\n",
    "    To make a horizontal barpot using any two columns(x and y axis) from a dataframe\n",
    "    \n",
    "    INPUT:\n",
    "    df - dataframe that contains the data\n",
    "    col1 - column for y-axis\n",
    "    col2 - column for x-axis\n",
    "    size - figsize attribute of the plot\n",
    "    title - title of the plot\n",
    "    xlabel - x-axis label of the plot\n",
    "    \n",
    "    '''\n",
    "    fig, ax = plt.subplots(1,1,figsize = size)\n",
    "    plt.barh(df[col1],df[col2],label = col2)\n",
    "            \n",
    "    if title:\n",
    "        ax.set_title(title)   \n",
    "    else:\n",
    "        ax.set_title('{} vs {}'.format(col2, col1))\n",
    "    if xlabel:\n",
    "        ax.set_xlabel(xlabel)\n",
    "    else:\n",
    "        ax.set_xlabel(col2)"
   ]
  },
  {
   "cell_type": "code",
   "execution_count": 635,
   "metadata": {},
   "outputs": [],
   "source": [
    "def display_desc(row):\n",
    "    '''\n",
    "    Displays the full string in the description column of the meta elementary dataset\n",
    "    \n",
    "    INPUT:\n",
    "    row - (str) value of the field name you want the description for\n",
    "    \n",
    "    '''\n",
    "    return meta_elementary[meta_elementary['Field name'] == row].Description.values[0]"
   ]
  },
  {
   "cell_type": "code",
   "execution_count": 641,
   "metadata": {},
   "outputs": [],
   "source": [
    "def interpret_pc(i):\n",
    "    '''\n",
    "    Interpret the ith principal component by plotting the top 10 original features that affect that principal component\n",
    "    the most both positively and negatively.\n",
    "    \n",
    "    INPUT:\n",
    "    i - (int) the serial number of the principal component you want to interpret\n",
    "    \n",
    "    OUTPUT:\n",
    "    ith_pc_imp - (dataframe) dataframe containing the 20 most important features contributing to that principal \n",
    "                  components. these contain only the top 10 and bottom 10 weighted features, i.e, the features that \n",
    "                  affect the ith component the most both positively and negatively.\n",
    "    \n",
    "    '''\n",
    "    # Forming the ith principal component dataframe\n",
    "    ith_pc = pd.DataFrame(pca.components_[i-1,:], index = X.columns, columns = ['scores'])\n",
    "    ith_pc.sort_values(by = 'scores',ascending = True, inplace =True)\n",
    "\n",
    "    # Taking only the top 10 and bottom 10 weights, i.e, the features that affect the ith component the most both\n",
    "    # positively and negatively\n",
    "    ith_pc_imp = pd.concat([ith_pc.head(10),ith_pc.tail(10)])\n",
    "\n",
    "    plt.figure(figsize = (10,7))\n",
    "    sns.barplot(x = ith_pc_imp.scores, y = ith_pc_imp.index, orient = 'horizontal')\n",
    "    \n",
    "    return ith_pc_imp.T "
   ]
  },
  {
   "cell_type": "markdown",
   "metadata": {},
   "source": [
    "## Exploring the data"
   ]
  },
  {
   "cell_type": "code",
   "execution_count": 587,
   "metadata": {},
   "outputs": [
    {
     "name": "stdout",
     "output_type": "stream",
     "text": [
      "(36, 816)\n",
      "(36, 630)\n"
     ]
    }
   ],
   "source": [
    "# Checking the shape of the datasets\n",
    "print(elementary.shape)\n",
    "print(secondary.shape)"
   ]
  },
  {
   "cell_type": "code",
   "execution_count": 588,
   "metadata": {},
   "outputs": [
    {
     "name": "stdout",
     "output_type": "stream",
     "text": [
      "(0,)\n",
      "(100,)\n"
     ]
    }
   ],
   "source": [
    "# Quick check for null entries\n",
    "print(elementary.isnull().sum()[elementary.isnull().sum() > 0].shape)\n",
    "print(secondary.isnull().sum()[secondary.isnull().any()].shape)"
   ]
  },
  {
   "cell_type": "markdown",
   "metadata": {},
   "source": [
    "There are 100 null entries in secondary and none in elementary"
   ]
  },
  {
   "cell_type": "code",
   "execution_count": 589,
   "metadata": {},
   "outputs": [
    {
     "data": {
      "text/html": [
       "<div>\n",
       "<style scoped>\n",
       "    .dataframe tbody tr th:only-of-type {\n",
       "        vertical-align: middle;\n",
       "    }\n",
       "\n",
       "    .dataframe tbody tr th {\n",
       "        vertical-align: top;\n",
       "    }\n",
       "\n",
       "    .dataframe thead th {\n",
       "        text-align: right;\n",
       "    }\n",
       "</style>\n",
       "<table border=\"1\" class=\"dataframe\">\n",
       "  <thead>\n",
       "    <tr style=\"text-align: right;\">\n",
       "      <th></th>\n",
       "      <th>AC_YEAR</th>\n",
       "      <th>STATCD</th>\n",
       "      <th>STATNAME</th>\n",
       "      <th>DISTRICTS</th>\n",
       "      <th>BLOCKS</th>\n",
       "      <th>VILLAGES</th>\n",
       "      <th>CLUSTERS</th>\n",
       "      <th>TOTPOPULAT</th>\n",
       "      <th>P_URB_POP</th>\n",
       "      <th>POPULATION_0_6</th>\n",
       "      <th>...</th>\n",
       "      <th>USCR35</th>\n",
       "      <th>NOTCH_ASS</th>\n",
       "      <th>TCHINV</th>\n",
       "      <th>TOTCLS1G</th>\n",
       "      <th>TOTCLS2G</th>\n",
       "      <th>TOTCLS3G</th>\n",
       "      <th>TOTCLS4G</th>\n",
       "      <th>TOTCLS5G</th>\n",
       "      <th>TOTCLS6G</th>\n",
       "      <th>TOTCLS7G</th>\n",
       "    </tr>\n",
       "  </thead>\n",
       "  <tbody>\n",
       "    <tr>\n",
       "      <th>0</th>\n",
       "      <td>2015-16</td>\n",
       "      <td>1</td>\n",
       "      <td>JAMMU &amp; KASHMIR</td>\n",
       "      <td>22</td>\n",
       "      <td>201</td>\n",
       "      <td>7263</td>\n",
       "      <td>1628</td>\n",
       "      <td>12549</td>\n",
       "      <td>20.05</td>\n",
       "      <td>16.01</td>\n",
       "      <td>...</td>\n",
       "      <td>1014</td>\n",
       "      <td>20491</td>\n",
       "      <td>1946</td>\n",
       "      <td>41171</td>\n",
       "      <td>62474</td>\n",
       "      <td>7878</td>\n",
       "      <td>564</td>\n",
       "      <td>495</td>\n",
       "      <td>24326</td>\n",
       "      <td>2001</td>\n",
       "    </tr>\n",
       "    <tr>\n",
       "      <th>1</th>\n",
       "      <td>2015-16</td>\n",
       "      <td>2</td>\n",
       "      <td>HIMACHAL PRADESH</td>\n",
       "      <td>12</td>\n",
       "      <td>124</td>\n",
       "      <td>10120</td>\n",
       "      <td>2243</td>\n",
       "      <td>6857</td>\n",
       "      <td>8.69</td>\n",
       "      <td>11.14</td>\n",
       "      <td>...</td>\n",
       "      <td>652</td>\n",
       "      <td>36054</td>\n",
       "      <td>3053</td>\n",
       "      <td>38307</td>\n",
       "      <td>6930</td>\n",
       "      <td>6909</td>\n",
       "      <td>6498</td>\n",
       "      <td>5445</td>\n",
       "      <td>6151</td>\n",
       "      <td>2717</td>\n",
       "    </tr>\n",
       "  </tbody>\n",
       "</table>\n",
       "<p>2 rows × 816 columns</p>\n",
       "</div>"
      ],
      "text/plain": [
       "   AC_YEAR  STATCD          STATNAME  DISTRICTS  BLOCKS  VILLAGES  CLUSTERS  \\\n",
       "0  2015-16       1   JAMMU & KASHMIR         22     201      7263      1628   \n",
       "1  2015-16       2  HIMACHAL PRADESH         12     124     10120      2243   \n",
       "\n",
       "   TOTPOPULAT  P_URB_POP  POPULATION_0_6    ...     USCR35  NOTCH_ASS  TCHINV  \\\n",
       "0       12549      20.05           16.01    ...       1014      20491    1946   \n",
       "1        6857       8.69           11.14    ...        652      36054    3053   \n",
       "\n",
       "   TOTCLS1G  TOTCLS2G  TOTCLS3G  TOTCLS4G  TOTCLS5G  TOTCLS6G  TOTCLS7G  \n",
       "0     41171     62474      7878       564       495     24326      2001  \n",
       "1     38307      6930      6909      6498      5445      6151      2717  \n",
       "\n",
       "[2 rows x 816 columns]"
      ]
     },
     "execution_count": 589,
     "metadata": {},
     "output_type": "execute_result"
    }
   ],
   "source": [
    "elementary.head(2)"
   ]
  },
  {
   "cell_type": "code",
   "execution_count": 590,
   "metadata": {},
   "outputs": [
    {
     "data": {
      "text/html": [
       "<div>\n",
       "<style scoped>\n",
       "    .dataframe tbody tr th:only-of-type {\n",
       "        vertical-align: middle;\n",
       "    }\n",
       "\n",
       "    .dataframe tbody tr th {\n",
       "        vertical-align: top;\n",
       "    }\n",
       "\n",
       "    .dataframe thead th {\n",
       "        text-align: right;\n",
       "    }\n",
       "</style>\n",
       "<table border=\"1\" class=\"dataframe\">\n",
       "  <thead>\n",
       "    <tr style=\"text-align: right;\">\n",
       "      <th></th>\n",
       "      <th>ac_year</th>\n",
       "      <th>statcd</th>\n",
       "      <th>statname</th>\n",
       "      <th>area_sqkm</th>\n",
       "      <th>tot_population</th>\n",
       "      <th>urban_population</th>\n",
       "      <th>grwoth_rate</th>\n",
       "      <th>sexratio</th>\n",
       "      <th>sc_population</th>\n",
       "      <th>st_population</th>\n",
       "      <th>...</th>\n",
       "      <th>tchmed_nr</th>\n",
       "      <th>tchoth_nr</th>\n",
       "      <th>tchse_nr</th>\n",
       "      <th>tchnr_nr</th>\n",
       "      <th>enrc7_py</th>\n",
       "      <th>enrc8_py</th>\n",
       "      <th>enrc9_py</th>\n",
       "      <th>enrc10_py</th>\n",
       "      <th>enr11_py</th>\n",
       "      <th>enr12_py</th>\n",
       "    </tr>\n",
       "  </thead>\n",
       "  <tbody>\n",
       "    <tr>\n",
       "      <th>0</th>\n",
       "      <td>2015-16</td>\n",
       "      <td>1</td>\n",
       "      <td>Jammu And Kashmir</td>\n",
       "      <td>222236.0</td>\n",
       "      <td>12548.93</td>\n",
       "      <td>20.05</td>\n",
       "      <td>23.71</td>\n",
       "      <td>883.0</td>\n",
       "      <td>7.4</td>\n",
       "      <td>11.9</td>\n",
       "      <td>...</td>\n",
       "      <td>0</td>\n",
       "      <td>0</td>\n",
       "      <td>0</td>\n",
       "      <td>0</td>\n",
       "      <td>199954</td>\n",
       "      <td>203537</td>\n",
       "      <td>192567</td>\n",
       "      <td>146066</td>\n",
       "      <td>138963</td>\n",
       "      <td>116187</td>\n",
       "    </tr>\n",
       "    <tr>\n",
       "      <th>1</th>\n",
       "      <td>2015-16</td>\n",
       "      <td>2</td>\n",
       "      <td>Himachal Pradesh</td>\n",
       "      <td>55673.0</td>\n",
       "      <td>6856.51</td>\n",
       "      <td>8.69</td>\n",
       "      <td>12.81</td>\n",
       "      <td>974.0</td>\n",
       "      <td>25.2</td>\n",
       "      <td>5.7</td>\n",
       "      <td>...</td>\n",
       "      <td>0</td>\n",
       "      <td>0</td>\n",
       "      <td>0</td>\n",
       "      <td>0</td>\n",
       "      <td>122101</td>\n",
       "      <td>122413</td>\n",
       "      <td>130258</td>\n",
       "      <td>135253</td>\n",
       "      <td>119932</td>\n",
       "      <td>98924</td>\n",
       "    </tr>\n",
       "  </tbody>\n",
       "</table>\n",
       "<p>2 rows × 630 columns</p>\n",
       "</div>"
      ],
      "text/plain": [
       "   ac_year  statcd           statname  area_sqkm  tot_population  \\\n",
       "0  2015-16       1  Jammu And Kashmir   222236.0        12548.93   \n",
       "1  2015-16       2   Himachal Pradesh    55673.0         6856.51   \n",
       "\n",
       "   urban_population  grwoth_rate  sexratio  sc_population  st_population  \\\n",
       "0             20.05        23.71     883.0            7.4           11.9   \n",
       "1              8.69        12.81     974.0           25.2            5.7   \n",
       "\n",
       "     ...     tchmed_nr  tchoth_nr  tchse_nr  tchnr_nr  enrc7_py  enrc8_py  \\\n",
       "0    ...             0          0         0         0    199954    203537   \n",
       "1    ...             0          0         0         0    122101    122413   \n",
       "\n",
       "   enrc9_py  enrc10_py  enr11_py  enr12_py  \n",
       "0    192567     146066    138963    116187  \n",
       "1    130258     135253    119932     98924  \n",
       "\n",
       "[2 rows x 630 columns]"
      ]
     },
     "execution_count": 590,
     "metadata": {},
     "output_type": "execute_result"
    }
   ],
   "source": [
    "secondary.head(2)"
   ]
  },
  {
   "cell_type": "code",
   "execution_count": 591,
   "metadata": {},
   "outputs": [
    {
     "name": "stdout",
     "output_type": "stream",
     "text": [
      "        Field name                                        Description\n",
      "0          AC_YEAR                                   AC_YEAR: AC_YEAR\n",
      "1           STATCD             Data Reported from: Data Reported from\n",
      "2         STATNAME             Data Reported from: Data Reported from\n",
      "3        DISTRICTS             Data Reported from: Data Reported from\n",
      "4           BLOCKS             Data Reported from: Data Reported from\n",
      "5         VILLAGES             Data Reported from: Data Reported from\n",
      "6         CLUSTERS             Data Reported from: Data Reported from\n",
      "7       TOTPOPULAT  Basic data from Census 2011: Total Population(...\n",
      "8        P_URB_POP  Basic data from Census 2011: Percentage Urban ...\n",
      "9   POPULATION_0_6  Basic data from Census 2011: Percentage Popula...\n",
      "10      GROWTHRATE           Basic data from Census 2011: Growth Rate\n",
      "11        SEXRATIO             Basic data from Census 2011: Sex Ratio\n",
      "12        P_SC_POP  Basic data from Census 2011: Percentage SC Pop...\n",
      "13        P_ST_POP  Basic data from Census 2011: Percentage ST Pop...\n",
      "14      OVERALL_LI         Basic data from Census 2011: Literacy Rate\n",
      "15      FEMALE_LIT  Basic data from Census 2011: Female Literacy Rate\n",
      "16        MALE_LIT    Basic data from Census 2011: Male Literacy Rate\n",
      "17       AREA_SQKM         Basic data from Census 2011: Area (Sq. KM)\n",
      "18     TOT_6_10_15           Projected Population : Age Group 6 to 10\n",
      "19    TOT_11_13_15          Projected Population : Age Group 11 to 13\n",
      "\n",
      "----\n",
      "\n",
      "              Field name                                        Description\n",
      "0                 statcd                                         State code\n",
      "1                ac_year                                      Academic year\n",
      "2               statname                                         State name\n",
      "3              area_sqkm                                               Area\n",
      "4         tot_population                                   Total Population\n",
      "5       urban_population                                  Urban Population \n",
      "6            grwoth_rate                                        Growth Rate\n",
      "7               sexratio                                          Sex Ratio\n",
      "8          sc_population                                    % SC Population\n",
      "9          st_population                                    % St Population\n",
      "10         literacy_rate                                      literacy rate\n",
      "11    male_literacy_rate                                literacy rate- Male\n",
      "12  female_literacy_rate                              literacy rate- Female\n",
      "13                distcd                               Districts: Districts\n",
      "14                 blkcd                                     Blocks: Blocks\n",
      "15              villages                                 Villages: Villages\n",
      "16              clusters                                 clusters: clusters\n",
      "17               schools                                   schools: schools\n",
      "18                 sch_1  Number of Schools: Primary with upper primary ...\n",
      "19                 sch_2  Number of Schools: Upper Primary with secondar...\n"
     ]
    }
   ],
   "source": [
    "# These are some of the columns and their corresponding descriptions\n",
    "print(meta_elementary.head(20))\n",
    "print('\\n----\\n')\n",
    "print(meta_secondary.head(20))"
   ]
  },
  {
   "cell_type": "markdown",
   "metadata": {},
   "source": [
    "We will be trying to answer the following questions : \n",
    "1. Which states have the highest and the lowest literacy rates? \n",
    "2. How are the top 3 states different from the bottom 3 states and what factors can the bottom 3 states work on to increase their literacy rate? ( Explore using elementary dataset only)\n",
    "3. Make a regression model for allowing for prediction of overall literacy rate using only education level indicators(eg: School types, no. of teachers across different categories, school facilites etc.). Take any 3 states as the validation set. Which technique gives us the best model?"
   ]
  },
  {
   "cell_type": "markdown",
   "metadata": {},
   "source": [
    "## 1. Which states have the highest and lowest literacy rates ? "
   ]
  },
  {
   "cell_type": "markdown",
   "metadata": {},
   "source": [
    "*NOTE: Secondary and elementary have the same stats concerning literacy rates.*"
   ]
  },
  {
   "cell_type": "code",
   "execution_count": 592,
   "metadata": {},
   "outputs": [],
   "source": [
    "# 'OVERALL_LI' is the overall literacy rate for each state\n",
    "elementary = sort_vals(elementary, 'OVERALL_LI')"
   ]
  },
  {
   "cell_type": "code",
   "execution_count": 593,
   "metadata": {},
   "outputs": [
    {
     "data": {
      "image/png": "[encoded data removed]",
      "text/plain": [
       "<Figure size 720x720 with 1 Axes>"
      ]
     },
     "metadata": {},
     "output_type": "display_data"
    }
   ],
   "source": [
    "plot_barh(elementary, 'STATNAME', 'OVERALL_LI', title = 'Overall Elementary literacy rates comparison \\\n",
    "between different states' , xlabel = 'Literacy rate')"
   ]
  },
  {
   "cell_type": "code",
   "execution_count": 594,
   "metadata": {},
   "outputs": [],
   "source": [
    "elementary = sort_vals(elementary, 'FEMALE_LIT')"
   ]
  },
  {
   "cell_type": "code",
   "execution_count": 595,
   "metadata": {},
   "outputs": [
    {
     "data": {
      "image/png": "[encoded data removed]",
      "text/plain": [
       "<Figure size 720x720 with 1 Axes>"
      ]
     },
     "metadata": {},
     "output_type": "display_data"
    }
   ],
   "source": [
    "plot_barh(elementary, 'STATNAME', 'FEMALE_LIT')"
   ]
  },
  {
   "cell_type": "code",
   "execution_count": 596,
   "metadata": {},
   "outputs": [],
   "source": [
    "elementary = sort_vals(elementary, 'MALE_LIT')"
   ]
  },
  {
   "cell_type": "code",
   "execution_count": 597,
   "metadata": {},
   "outputs": [
    {
     "data": {
      "image/png": "[encoded data removed]",
      "text/plain": [
       "<Figure size 720x720 with 1 Axes>"
      ]
     },
     "metadata": {},
     "output_type": "display_data"
    }
   ],
   "source": [
    "plot_barh(elementary, 'STATNAME', 'MALE_LIT')"
   ]
  },
  {
   "cell_type": "markdown",
   "metadata": {},
   "source": [
    "We will now see a Male vs Female vs Literacy rate comparison"
   ]
  },
  {
   "cell_type": "code",
   "execution_count": 598,
   "metadata": {},
   "outputs": [],
   "source": [
    "elementary = sort_vals(elementary, 'OVERALL_LI')"
   ]
  },
  {
   "cell_type": "code",
   "execution_count": 599,
   "metadata": {},
   "outputs": [
    {
     "data": {
      "text/plain": [
       "<matplotlib.axes._subplots.AxesSubplot at 0x7f26b81c8588>"
      ]
     },
     "execution_count": 599,
     "metadata": {},
     "output_type": "execute_result"
    },
    {
     "data": {
      "image/png": "[encoded data removed]",
      "text/plain": [
       "<Figure size 864x432 with 1 Axes>"
      ]
     },
     "metadata": {},
     "output_type": "display_data"
    }
   ],
   "source": [
    "elementary.plot(kind = 'bar',x = 'STATNAME',y = ['MALE_LIT','FEMALE_LIT'],stacked = False,figsize=(12,6),width = 0.7,color = ['salmon','dimgrey'])"
   ]
  },
  {
   "cell_type": "markdown",
   "metadata": {},
   "source": [
    "There are two things that could be interesting to explore:\n",
    "\n",
    "1. Make a new column showing the the differences in literacy rates between men and women.\n",
    "2. It looks like North-Eastern states on an average have less difference between male and female literacy rates. "
   ]
  },
  {
   "cell_type": "code",
   "execution_count": 600,
   "metadata": {},
   "outputs": [],
   "source": [
    "# Difference in Male and Female literacy rates\n",
    "elementary['DIFF_LIT'] = elementary.MALE_LIT - elementary.FEMALE_LIT "
   ]
  },
  {
   "cell_type": "code",
   "execution_count": 601,
   "metadata": {},
   "outputs": [
    {
     "name": "stdout",
     "output_type": "stream",
     "text": [
      "India's avg difference in literacy rate between men and women is : 13.89361111111111\n"
     ]
    }
   ],
   "source": [
    "# Average difference in literacy rates\n",
    "diff_lit_mean = elementary.DIFF_LIT.mean()\n",
    "print(\"India's avg difference in literacy rate between men and women is : {}\".format(diff_lit_mean))"
   ]
  },
  {
   "cell_type": "code",
   "execution_count": 602,
   "metadata": {},
   "outputs": [
    {
     "data": {
      "text/html": [
       "<div>\n",
       "<style scoped>\n",
       "    .dataframe tbody tr th:only-of-type {\n",
       "        vertical-align: middle;\n",
       "    }\n",
       "\n",
       "    .dataframe tbody tr th {\n",
       "        vertical-align: top;\n",
       "    }\n",
       "\n",
       "    .dataframe thead th {\n",
       "        text-align: right;\n",
       "    }\n",
       "</style>\n",
       "<table border=\"1\" class=\"dataframe\">\n",
       "  <thead>\n",
       "    <tr style=\"text-align: right;\">\n",
       "      <th></th>\n",
       "      <th>STATNAME</th>\n",
       "      <th>DIFF_LIT</th>\n",
       "    </tr>\n",
       "  </thead>\n",
       "  <tbody>\n",
       "    <tr>\n",
       "      <th>16</th>\n",
       "      <td>MEGHALAYA</td>\n",
       "      <td>3.39</td>\n",
       "    </tr>\n",
       "    <tr>\n",
       "      <th>31</th>\n",
       "      <td>KERALA</td>\n",
       "      <td>4.04</td>\n",
       "    </tr>\n",
       "    <tr>\n",
       "      <th>14</th>\n",
       "      <td>MIZORAM</td>\n",
       "      <td>4.32</td>\n",
       "    </tr>\n",
       "    <tr>\n",
       "      <th>12</th>\n",
       "      <td>NAGALAND</td>\n",
       "      <td>6.60</td>\n",
       "    </tr>\n",
       "    <tr>\n",
       "      <th>30</th>\n",
       "      <td>LAKSHADWEEP</td>\n",
       "      <td>7.86</td>\n",
       "    </tr>\n",
       "  </tbody>\n",
       "</table>\n",
       "</div>"
      ],
      "text/plain": [
       "       STATNAME  DIFF_LIT\n",
       "16    MEGHALAYA      3.39\n",
       "31       KERALA      4.04\n",
       "14      MIZORAM      4.32\n",
       "12     NAGALAND      6.60\n",
       "30  LAKSHADWEEP      7.86"
      ]
     },
     "execution_count": 602,
     "metadata": {},
     "output_type": "execute_result"
    }
   ],
   "source": [
    "# States with the least male and female literacy rates difference\n",
    "sort_vals(elementary, 'DIFF_LIT').head()[['STATNAME','DIFF_LIT']]"
   ]
  },
  {
   "cell_type": "code",
   "execution_count": 603,
   "metadata": {},
   "outputs": [
    {
     "data": {
      "text/html": [
       "<div>\n",
       "<style scoped>\n",
       "    .dataframe tbody tr th:only-of-type {\n",
       "        vertical-align: middle;\n",
       "    }\n",
       "\n",
       "    .dataframe tbody tr th {\n",
       "        vertical-align: top;\n",
       "    }\n",
       "\n",
       "    .dataframe thead th {\n",
       "        text-align: right;\n",
       "    }\n",
       "</style>\n",
       "<table border=\"1\" class=\"dataframe\">\n",
       "  <thead>\n",
       "    <tr style=\"text-align: right;\">\n",
       "      <th></th>\n",
       "      <th>STATNAME</th>\n",
       "      <th>DIFF_LIT</th>\n",
       "    </tr>\n",
       "  </thead>\n",
       "  <tbody>\n",
       "    <tr>\n",
       "      <th>22</th>\n",
       "      <td>MADHYA PRADESH</td>\n",
       "      <td>20.51</td>\n",
       "    </tr>\n",
       "    <tr>\n",
       "      <th>25</th>\n",
       "      <td>DADRA &amp; NAGAR HAVELI</td>\n",
       "      <td>20.53</td>\n",
       "    </tr>\n",
       "    <tr>\n",
       "      <th>21</th>\n",
       "      <td>CHHATTISGARH</td>\n",
       "      <td>20.86</td>\n",
       "    </tr>\n",
       "    <tr>\n",
       "      <th>19</th>\n",
       "      <td>JHARKHAND</td>\n",
       "      <td>22.24</td>\n",
       "    </tr>\n",
       "    <tr>\n",
       "      <th>7</th>\n",
       "      <td>RAJASTHAN</td>\n",
       "      <td>27.85</td>\n",
       "    </tr>\n",
       "  </tbody>\n",
       "</table>\n",
       "</div>"
      ],
      "text/plain": [
       "                STATNAME  DIFF_LIT\n",
       "22        MADHYA PRADESH     20.51\n",
       "25  DADRA & NAGAR HAVELI     20.53\n",
       "21          CHHATTISGARH     20.86\n",
       "19             JHARKHAND     22.24\n",
       "7              RAJASTHAN     27.85"
      ]
     },
     "execution_count": 603,
     "metadata": {},
     "output_type": "execute_result"
    }
   ],
   "source": [
    "# States with the most male and female literacy rates difference\n",
    "sort_vals(elementary, 'DIFF_LIT').tail()[['STATNAME','DIFF_LIT']]"
   ]
  },
  {
   "cell_type": "code",
   "execution_count": 604,
   "metadata": {},
   "outputs": [
    {
     "name": "stdout",
     "output_type": "stream",
     "text": [
      "The avg in DIFF_LIT for north-eastern states (9.1475) is much less than the national avg (13.89361111111111).\n"
     ]
    }
   ],
   "source": [
    "# These are the Indian North-East states\n",
    "north_east = ['NAGALAND','MANIPUR','MIZORAM','ASSAM','TRIPURA','ARUNACHAL PRADESH','MEGHALAYA','SIKKIM']\n",
    "elementary.set_index(elementary.STATNAME,inplace = True)\n",
    "ne_diff_lit_mean = elementary.loc[north_east,'DIFF_LIT' ].mean()\n",
    "print('The avg in DIFF_LIT for north-eastern states ({}) is much less than the national avg ({}).'.format(ne_diff_lit_mean,diff_lit_mean))"
   ]
  },
  {
   "cell_type": "code",
   "execution_count": 605,
   "metadata": {},
   "outputs": [
    {
     "name": "stdout",
     "output_type": "stream",
     "text": [
      "The Female literacy rate for meghalaya : 73.78 .VS. the avg female literacy rate : 71.0913888888889\n"
     ]
    }
   ],
   "source": [
    "print(\"The Female literacy rate for meghalaya : {} .VS. the avg female literacy rate : {}\".format(elementary.loc['MEGHALAYA','FEMALE_LIT'],elementary.FEMALE_LIT.mean()))"
   ]
  },
  {
   "cell_type": "markdown",
   "metadata": {},
   "source": [
    "We note the following from the above :\n",
    "\n",
    "* The states with the highest overall literacy rates are : Kerala, Lakshwadeep, Mizoram, Tripura and Goa.\n",
    "* The states with the lowest overall literacy rates are : Bihar, Telngana, Arunachal Pradesh, Rajasthan and Jharkhand. \n",
    "* Dadra and Nagar Haveli, Rajasthan, Chattisgarh, Jharkhand and MP have the maximum difference between Male and Female literacy rates. \n",
    "* Though the top states in male and female literacy remain the same but when we see the bottom states, they change. Meghalaya has the 5thhighest no. of illiterate males. The avg female literacy rate for Meghalaya though is higher than the avg female_lit rate.\n",
    "* Also, the states with the highest overall literacy rates have really little differences between male and female literacy rates in general. We also see that states in North east have on an average lesser difference between male and female literacy rates when compared with the average of the country."
   ]
  },
  {
   "cell_type": "markdown",
   "metadata": {},
   "source": [
    "## 2. How are the top 3 states different from the bottom 3 states and what factors can the bottom 3 states work on to increase their literacy rate ? ( Explore using elementary dataset only)"
   ]
  },
  {
   "cell_type": "markdown",
   "metadata": {},
   "source": [
    "For answering this question, we will carry out visual analyses using bar graphs on different features to see how they can affect Overall Literacy Rate"
   ]
  },
  {
   "cell_type": "code",
   "execution_count": 867,
   "metadata": {},
   "outputs": [],
   "source": [
    "# We will drop Telangana from bottom 3 as its been recently founded(2014)\n",
    "top_3_elem = elementary.sort_values(by = 'OVERALL_LI', ascending = False).head(3)\n",
    "bottom_3_elem = elementary.sort_values(by = 'OVERALL_LI', ascending = True).head(4).drop('TELANGANA',axis = 0)"
   ]
  },
  {
   "cell_type": "code",
   "execution_count": 870,
   "metadata": {},
   "outputs": [],
   "source": [
    "top_bottom = pd.concat([top_3_elem, bottom_3_elem], axis = 0, sort = False)"
   ]
  },
  {
   "cell_type": "code",
   "execution_count": 871,
   "metadata": {},
   "outputs": [
    {
     "data": {
      "text/html": [
       "<div>\n",
       "<style scoped>\n",
       "    .dataframe tbody tr th:only-of-type {\n",
       "        vertical-align: middle;\n",
       "    }\n",
       "\n",
       "    .dataframe tbody tr th {\n",
       "        vertical-align: top;\n",
       "    }\n",
       "\n",
       "    .dataframe thead th {\n",
       "        text-align: right;\n",
       "    }\n",
       "</style>\n",
       "<table border=\"1\" class=\"dataframe\">\n",
       "  <thead>\n",
       "    <tr style=\"text-align: right;\">\n",
       "      <th></th>\n",
       "      <th>AC_YEAR</th>\n",
       "      <th>STATCD</th>\n",
       "      <th>STATNAME</th>\n",
       "      <th>DISTRICTS</th>\n",
       "      <th>BLOCKS</th>\n",
       "      <th>VILLAGES</th>\n",
       "      <th>CLUSTERS</th>\n",
       "      <th>TOTPOPULAT</th>\n",
       "      <th>P_URB_POP</th>\n",
       "      <th>POPULATION_0_6</th>\n",
       "      <th>...</th>\n",
       "      <th>NOTCH_ASS</th>\n",
       "      <th>TCHINV</th>\n",
       "      <th>TOTCLS1G</th>\n",
       "      <th>TOTCLS2G</th>\n",
       "      <th>TOTCLS3G</th>\n",
       "      <th>TOTCLS4G</th>\n",
       "      <th>TOTCLS5G</th>\n",
       "      <th>TOTCLS6G</th>\n",
       "      <th>TOTCLS7G</th>\n",
       "      <th>DIFF_LIT</th>\n",
       "    </tr>\n",
       "    <tr>\n",
       "      <th>STATNAME</th>\n",
       "      <th></th>\n",
       "      <th></th>\n",
       "      <th></th>\n",
       "      <th></th>\n",
       "      <th></th>\n",
       "      <th></th>\n",
       "      <th></th>\n",
       "      <th></th>\n",
       "      <th></th>\n",
       "      <th></th>\n",
       "      <th></th>\n",
       "      <th></th>\n",
       "      <th></th>\n",
       "      <th></th>\n",
       "      <th></th>\n",
       "      <th></th>\n",
       "      <th></th>\n",
       "      <th></th>\n",
       "      <th></th>\n",
       "      <th></th>\n",
       "      <th></th>\n",
       "    </tr>\n",
       "  </thead>\n",
       "  <tbody>\n",
       "    <tr>\n",
       "      <th>KERALA</th>\n",
       "      <td>2015-16</td>\n",
       "      <td>32</td>\n",
       "      <td>KERALA</td>\n",
       "      <td>14</td>\n",
       "      <td>166</td>\n",
       "      <td>1907</td>\n",
       "      <td>1375</td>\n",
       "      <td>33388</td>\n",
       "      <td>24.76</td>\n",
       "      <td>9.95</td>\n",
       "      <td>...</td>\n",
       "      <td>3561</td>\n",
       "      <td>675</td>\n",
       "      <td>51419</td>\n",
       "      <td>43025</td>\n",
       "      <td>31335</td>\n",
       "      <td>5327</td>\n",
       "      <td>15449</td>\n",
       "      <td>17752</td>\n",
       "      <td>3936</td>\n",
       "      <td>4.04</td>\n",
       "    </tr>\n",
       "    <tr>\n",
       "      <th>LAKSHADWEEP</th>\n",
       "      <td>2015-16</td>\n",
       "      <td>31</td>\n",
       "      <td>LAKSHADWEEP</td>\n",
       "      <td>1</td>\n",
       "      <td>3</td>\n",
       "      <td>10</td>\n",
       "      <td>9</td>\n",
       "      <td>64</td>\n",
       "      <td>41.86</td>\n",
       "      <td>11.00</td>\n",
       "      <td>...</td>\n",
       "      <td>2395</td>\n",
       "      <td>209</td>\n",
       "      <td>139</td>\n",
       "      <td>150</td>\n",
       "      <td>49</td>\n",
       "      <td>15</td>\n",
       "      <td>28</td>\n",
       "      <td>11</td>\n",
       "      <td>0</td>\n",
       "      <td>7.86</td>\n",
       "    </tr>\n",
       "    <tr>\n",
       "      <th>MIZORAM</th>\n",
       "      <td>2015-16</td>\n",
       "      <td>15</td>\n",
       "      <td>MIZORAM</td>\n",
       "      <td>8</td>\n",
       "      <td>36</td>\n",
       "      <td>851</td>\n",
       "      <td>169</td>\n",
       "      <td>1091</td>\n",
       "      <td>40.42</td>\n",
       "      <td>15.17</td>\n",
       "      <td>...</td>\n",
       "      <td>4917</td>\n",
       "      <td>1386</td>\n",
       "      <td>6593</td>\n",
       "      <td>3267</td>\n",
       "      <td>0</td>\n",
       "      <td>4575</td>\n",
       "      <td>0</td>\n",
       "      <td>0</td>\n",
       "      <td>0</td>\n",
       "      <td>4.32</td>\n",
       "    </tr>\n",
       "    <tr>\n",
       "      <th>BIHAR</th>\n",
       "      <td>2015-16</td>\n",
       "      <td>10</td>\n",
       "      <td>BIHAR</td>\n",
       "      <td>38</td>\n",
       "      <td>537</td>\n",
       "      <td>40779</td>\n",
       "      <td>5633</td>\n",
       "      <td>103805</td>\n",
       "      <td>8.36</td>\n",
       "      <td>17.90</td>\n",
       "      <td>...</td>\n",
       "      <td>49110</td>\n",
       "      <td>3614</td>\n",
       "      <td>147323</td>\n",
       "      <td>272919</td>\n",
       "      <td>11332</td>\n",
       "      <td>2481</td>\n",
       "      <td>475</td>\n",
       "      <td>23095</td>\n",
       "      <td>927</td>\n",
       "      <td>20.06</td>\n",
       "    </tr>\n",
       "    <tr>\n",
       "      <th>ARUNACHAL PRADESH</th>\n",
       "      <td>2015-16</td>\n",
       "      <td>12</td>\n",
       "      <td>ARUNACHAL PRADESH</td>\n",
       "      <td>20</td>\n",
       "      <td>99</td>\n",
       "      <td>2982</td>\n",
       "      <td>234</td>\n",
       "      <td>1383</td>\n",
       "      <td>16.48</td>\n",
       "      <td>14.66</td>\n",
       "      <td>...</td>\n",
       "      <td>5497</td>\n",
       "      <td>504</td>\n",
       "      <td>8564</td>\n",
       "      <td>9020</td>\n",
       "      <td>820</td>\n",
       "      <td>202</td>\n",
       "      <td>304</td>\n",
       "      <td>2022</td>\n",
       "      <td>206</td>\n",
       "      <td>14.12</td>\n",
       "    </tr>\n",
       "    <tr>\n",
       "      <th>RAJASTHAN</th>\n",
       "      <td>2015-16</td>\n",
       "      <td>8</td>\n",
       "      <td>RAJASTHAN</td>\n",
       "      <td>33</td>\n",
       "      <td>302</td>\n",
       "      <td>41441</td>\n",
       "      <td>10594</td>\n",
       "      <td>68621</td>\n",
       "      <td>19.26</td>\n",
       "      <td>15.31</td>\n",
       "      <td>...</td>\n",
       "      <td>40162</td>\n",
       "      <td>2701</td>\n",
       "      <td>125798</td>\n",
       "      <td>253514</td>\n",
       "      <td>120330</td>\n",
       "      <td>979</td>\n",
       "      <td>5189</td>\n",
       "      <td>86126</td>\n",
       "      <td>1720</td>\n",
       "      <td>27.85</td>\n",
       "    </tr>\n",
       "  </tbody>\n",
       "</table>\n",
       "<p>6 rows × 817 columns</p>\n",
       "</div>"
      ],
      "text/plain": [
       "                   AC_YEAR  STATCD           STATNAME  DISTRICTS  BLOCKS  \\\n",
       "STATNAME                                                                   \n",
       "KERALA             2015-16      32             KERALA         14     166   \n",
       "LAKSHADWEEP        2015-16      31        LAKSHADWEEP          1       3   \n",
       "MIZORAM            2015-16      15            MIZORAM          8      36   \n",
       "BIHAR              2015-16      10              BIHAR         38     537   \n",
       "ARUNACHAL PRADESH  2015-16      12  ARUNACHAL PRADESH         20      99   \n",
       "RAJASTHAN          2015-16       8          RAJASTHAN         33     302   \n",
       "\n",
       "                   VILLAGES  CLUSTERS  TOTPOPULAT  P_URB_POP  POPULATION_0_6  \\\n",
       "STATNAME                                                                       \n",
       "KERALA                 1907      1375       33388      24.76            9.95   \n",
       "LAKSHADWEEP              10         9          64      41.86           11.00   \n",
       "MIZORAM                 851       169        1091      40.42           15.17   \n",
       "BIHAR                 40779      5633      103805       8.36           17.90   \n",
       "ARUNACHAL PRADESH      2982       234        1383      16.48           14.66   \n",
       "RAJASTHAN             41441     10594       68621      19.26           15.31   \n",
       "\n",
       "                     ...     NOTCH_ASS  TCHINV  TOTCLS1G  TOTCLS2G  TOTCLS3G  \\\n",
       "STATNAME             ...                                                       \n",
       "KERALA               ...          3561     675     51419     43025     31335   \n",
       "LAKSHADWEEP          ...          2395     209       139       150        49   \n",
       "MIZORAM              ...          4917    1386      6593      3267         0   \n",
       "BIHAR                ...         49110    3614    147323    272919     11332   \n",
       "ARUNACHAL PRADESH    ...          5497     504      8564      9020       820   \n",
       "RAJASTHAN            ...         40162    2701    125798    253514    120330   \n",
       "\n",
       "                   TOTCLS4G  TOTCLS5G  TOTCLS6G  TOTCLS7G  DIFF_LIT  \n",
       "STATNAME                                                             \n",
       "KERALA                 5327     15449     17752      3936      4.04  \n",
       "LAKSHADWEEP              15        28        11         0      7.86  \n",
       "MIZORAM                4575         0         0         0      4.32  \n",
       "BIHAR                  2481       475     23095       927     20.06  \n",
       "ARUNACHAL PRADESH       202       304      2022       206     14.12  \n",
       "RAJASTHAN               979      5189     86126      1720     27.85  \n",
       "\n",
       "[6 rows x 817 columns]"
      ]
     },
     "execution_count": 871,
     "metadata": {},
     "output_type": "execute_result"
    }
   ],
   "source": [
    "top_bottom"
   ]
  },
  {
   "cell_type": "markdown",
   "metadata": {},
   "source": [
    "1. TOTPOPULAT"
   ]
  },
  {
   "cell_type": "code",
   "execution_count": 609,
   "metadata": {},
   "outputs": [
    {
     "data": {
      "text/plain": [
       "array([\"Basic data from Census 2011: Total Population(in 1000's)\"],\n",
       "      dtype=object)"
      ]
     },
     "execution_count": 609,
     "metadata": {},
     "output_type": "execute_result"
    }
   ],
   "source": [
    "display_desc('TOTPOPULAT')"
   ]
  },
  {
   "cell_type": "code",
   "execution_count": 872,
   "metadata": {},
   "outputs": [
    {
     "data": {
      "text/plain": [
       "STATNAME\n",
       "KERALA                859.120500\n",
       "LAKSHADWEEP          2000.000000\n",
       "MIZORAM                51.752763\n",
       "BIHAR                1102.396907\n",
       "ARUNACHAL PRADESH      16.514813\n",
       "RAJASTHAN             200.506079\n",
       "dtype: float64"
      ]
     },
     "execution_count": 872,
     "metadata": {},
     "output_type": "execute_result"
    }
   ],
   "source": [
    "top_bottom.TOTPOPULAT/top_bottom.AREA_SQKM * 1000"
   ]
  },
  {
   "cell_type": "markdown",
   "metadata": {},
   "source": [
    "So population density isn't a factor at all in differentiating between the above two groups. At first I thought that maybe having higher population density created more pressure on the govt to cater to the needs of the people and that it might be difficult for states of really high population density to do so.But the govt of that state should be well equipped enough to make sure that people get access to education in that state irrelevent of how dense the population is."
   ]
  },
  {
   "cell_type": "markdown",
   "metadata": {},
   "source": [
    "2. DIFF_LIT"
   ]
  },
  {
   "cell_type": "markdown",
   "metadata": {},
   "source": [
    "DIFF_LIT is the variable we created earlier that  by subtracting female literacy rate from the male literacy rate"
   ]
  },
  {
   "cell_type": "code",
   "execution_count": 873,
   "metadata": {},
   "outputs": [
    {
     "data": {
      "text/plain": [
       "STATNAME\n",
       "KERALA                4.04\n",
       "LAKSHADWEEP           7.86\n",
       "MIZORAM               4.32\n",
       "BIHAR                20.06\n",
       "ARUNACHAL PRADESH    14.12\n",
       "RAJASTHAN            27.85\n",
       "Name: DIFF_LIT, dtype: float64"
      ]
     },
     "execution_count": 873,
     "metadata": {},
     "output_type": "execute_result"
    }
   ],
   "source": [
    "top_bottom.DIFF_LIT"
   ]
  },
  {
   "cell_type": "code",
   "execution_count": 874,
   "metadata": {},
   "outputs": [
    {
     "data": {
      "text/plain": [
       "Text(0.5,1,'Top 3 vs Bottom 3 states for DIFF_LIT')"
      ]
     },
     "execution_count": 874,
     "metadata": {},
     "output_type": "execute_result"
    },
    {
     "data": {
      "image/png": "[encoded data removed]",
      "text/plain": [
       "<Figure size 432x288 with 1 Axes>"
      ]
     },
     "metadata": {},
     "output_type": "display_data"
    }
   ],
   "source": [
    "top_bottom.plot(y = 'DIFF_LIT',kind= 'bar')\n",
    "plt.title('Top 3 vs Bottom 3 states for DIFF_LIT')"
   ]
  },
  {
   "cell_type": "code",
   "execution_count": 909,
   "metadata": {},
   "outputs": [
    {
     "data": {
      "text/plain": [
       "Ttest_indResult(statistic=-3.6696000405327034, pvalue=0.021398673949884556)"
      ]
     },
     "execution_count": 909,
     "metadata": {},
     "output_type": "execute_result"
    }
   ],
   "source": [
    "stats.ttest_ind(top_bottom.DIFF_LIT.head(3),top_bottom.DIFF_LIT.tail(3))"
   ]
  },
  {
   "cell_type": "markdown",
   "metadata": {},
   "source": [
    "DIFF_LIT says a lot. The differences are really high in states with low overall literacy rates. They are even statistically significant at alpha = 0.05. So even if the bottom most states have good male literacy rates, female literacy rates are really low and that takes their overall literacy rate down. Thus these states really need to work on educating their females and increasing their literacy rate."
   ]
  },
  {
   "cell_type": "markdown",
   "metadata": {},
   "source": [
    "3. P_URB_POP"
   ]
  },
  {
   "cell_type": "code",
   "execution_count": 31,
   "metadata": {},
   "outputs": [
    {
     "data": {
      "text/plain": [
       "array(['Basic data from Census 2011: Percentage Urban Population'],\n",
       "      dtype=object)"
      ]
     },
     "execution_count": 31,
     "metadata": {},
     "output_type": "execute_result"
    }
   ],
   "source": [
    "display_desc('P_URB_POP')"
   ]
  },
  {
   "cell_type": "code",
   "execution_count": 875,
   "metadata": {},
   "outputs": [],
   "source": [
    "top_bottom['P_RUR_POP'] = 100 - top_bottom['P_URB_POP']"
   ]
  },
  {
   "cell_type": "code",
   "execution_count": 877,
   "metadata": {},
   "outputs": [
    {
     "data": {
      "text/plain": [
       "<matplotlib.axes._subplots.AxesSubplot at 0x7f26b88be8d0>"
      ]
     },
     "execution_count": 877,
     "metadata": {},
     "output_type": "execute_result"
    },
    {
     "data": {
      "image/png": "[encoded data removed]",
      "text/plain": [
       "<Figure size 720x360 with 1 Axes>"
      ]
     },
     "metadata": {},
     "output_type": "display_data"
    }
   ],
   "source": [
    "top_bottom.plot(y = ['P_URB_POP', 'P_RUR_POP'], kind = 'bar', figsize = (10,5))"
   ]
  },
  {
   "cell_type": "code",
   "execution_count": 914,
   "metadata": {},
   "outputs": [
    {
     "data": {
      "text/plain": [
       "Ttest_indResult(statistic=-3.2894951218308726, pvalue=0.03022983289283311)"
      ]
     },
     "execution_count": 914,
     "metadata": {},
     "output_type": "execute_result"
    }
   ],
   "source": [
    "stats.ttest_ind(top_bottom.P_RUR_POP.head(3), top_bottom.P_RUR_POP.tail(3))"
   ]
  },
  {
   "cell_type": "markdown",
   "metadata": {},
   "source": [
    "Here we see a pretty obvious but important component that differentiates our top 3 and bottom 3 states. The difference between rural and urban population is much much bigger in the bottom 3. It is also statistically significant for a one sided test where H0: Rural population for the bottom 3 states is much more than the rural population in the top 3 states. We reject this H0 at alpha = 0.5 as pvalue will be current pvalue divided by 2.\n",
    "\n",
    "The rural population percentage in the bottom 3 states is much more than the rural population percentage in the top 3. That's an important factor to note. People living in rural areas lead a very different life compared to the people living in urban areas. There is less motivation to go to school in rural areas as a lot of people tend to take uptheir parents profession or business. Also, often children are made to skip school and work at the farm."
   ]
  },
  {
   "cell_type": "markdown",
   "metadata": {},
   "source": [
    "4. SEXRATIO"
   ]
  },
  {
   "cell_type": "markdown",
   "metadata": {},
   "source": [
    "Sex ratio is the no. of females per 1000 males"
   ]
  },
  {
   "cell_type": "code",
   "execution_count": 878,
   "metadata": {},
   "outputs": [
    {
     "data": {
      "text/plain": [
       "930.8888888888889"
      ]
     },
     "execution_count": 878,
     "metadata": {},
     "output_type": "execute_result"
    }
   ],
   "source": [
    "# Approximate National average \n",
    "elementary.SEXRATIO.mean()"
   ]
  },
  {
   "cell_type": "code",
   "execution_count": 879,
   "metadata": {},
   "outputs": [
    {
     "data": {
      "text/plain": [
       "STATNAME\n",
       "KERALA               1084\n",
       "LAKSHADWEEP           946\n",
       "MIZORAM               975\n",
       "BIHAR                 916\n",
       "ARUNACHAL PRADESH     920\n",
       "RAJASTHAN             926\n",
       "Name: SEXRATIO, dtype: int64"
      ]
     },
     "execution_count": 879,
     "metadata": {},
     "output_type": "execute_result"
    }
   ],
   "source": [
    "top_bottom.SEXRATIO"
   ]
  },
  {
   "cell_type": "code",
   "execution_count": 880,
   "metadata": {},
   "outputs": [
    {
     "data": {
      "text/plain": [
       "<matplotlib.axes._subplots.AxesSubplot at 0x7f26b8317320>"
      ]
     },
     "execution_count": 880,
     "metadata": {},
     "output_type": "execute_result"
    },
    {
     "data": {
      "image/png": "[encoded data removed]",
      "text/plain": [
       "<Figure size 432x288 with 1 Axes>"
      ]
     },
     "metadata": {},
     "output_type": "display_data"
    }
   ],
   "source": [
    "top_bottom.plot(y ='SEXRATIO', kind = 'bar')"
   ]
  },
  {
   "cell_type": "code",
   "execution_count": 881,
   "metadata": {},
   "outputs": [
    {
     "data": {
      "text/plain": [
       "<matplotlib.axes._subplots.AxesSubplot at 0x7f26b8721240>"
      ]
     },
     "execution_count": 881,
     "metadata": {},
     "output_type": "execute_result"
    },
    {
     "data": {
      "image/png": "[encoded data removed]",
      "text/plain": [
       "<Figure size 720x504 with 1 Axes>"
      ]
     },
     "metadata": {},
     "output_type": "display_data"
    }
   ],
   "source": [
    "# Lets include more states in the comparison (considering the top and bottom 10 states)\n",
    "elementary.sort_values(by = 'OVERALL_LI', inplace=True)\n",
    "pd.concat([elementary.head(10),elementary.tail(10)], axis = 1, sort = False).plot(kind= 'bar', y = 'SEXRATIO', figsize = (10,7),width = 1)"
   ]
  },
  {
   "cell_type": "code",
   "execution_count": 632,
   "metadata": {},
   "outputs": [
    {
     "data": {
      "text/html": [
       "<div>\n",
       "<style scoped>\n",
       "    .dataframe tbody tr th:only-of-type {\n",
       "        vertical-align: middle;\n",
       "    }\n",
       "\n",
       "    .dataframe tbody tr th {\n",
       "        vertical-align: top;\n",
       "    }\n",
       "\n",
       "    .dataframe thead th {\n",
       "        text-align: right;\n",
       "    }\n",
       "</style>\n",
       "<table border=\"1\" class=\"dataframe\">\n",
       "  <thead>\n",
       "    <tr style=\"text-align: right;\">\n",
       "      <th></th>\n",
       "      <th>SEXRATIO</th>\n",
       "      <th>OVERALL_LI</th>\n",
       "    </tr>\n",
       "  </thead>\n",
       "  <tbody>\n",
       "    <tr>\n",
       "      <th>SEXRATIO</th>\n",
       "      <td>1.000000</td>\n",
       "      <td>-0.037555</td>\n",
       "    </tr>\n",
       "    <tr>\n",
       "      <th>OVERALL_LI</th>\n",
       "      <td>-0.037555</td>\n",
       "      <td>1.000000</td>\n",
       "    </tr>\n",
       "  </tbody>\n",
       "</table>\n",
       "</div>"
      ],
      "text/plain": [
       "            SEXRATIO  OVERALL_LI\n",
       "SEXRATIO    1.000000   -0.037555\n",
       "OVERALL_LI -0.037555    1.000000"
      ]
     },
     "execution_count": 632,
     "metadata": {},
     "output_type": "execute_result"
    }
   ],
   "source": [
    "elementary.loc[:,['SEXRATIO','OVERALL_LI']].corr()"
   ]
  },
  {
   "cell_type": "markdown",
   "metadata": {},
   "source": [
    "Clearly the sex ratio has nothing to do with the literacy level.The graphs dont show sex ratio affecting the literacy rate. Also the correlation's too weak. "
   ]
  },
  {
   "cell_type": "markdown",
   "metadata": {},
   "source": [
    "5. P_SC_POP and P_ST_POP"
   ]
  },
  {
   "cell_type": "code",
   "execution_count": 836,
   "metadata": {},
   "outputs": [
    {
     "name": "stdout",
     "output_type": "stream",
     "text": [
      "Basic data from Census 2011: Percentage SC Population\n",
      "Basic data from Census 2011: Percentage ST Population\n"
     ]
    }
   ],
   "source": [
    "print(display_desc('P_SC_POP'))\n",
    "print(display_desc('P_ST_POP'))"
   ]
  },
  {
   "cell_type": "code",
   "execution_count": 882,
   "metadata": {},
   "outputs": [],
   "source": [
    "top_bottom['SC_ST_POP'] = top_bottom.P_SC_POP + top_bottom.P_ST_POP"
   ]
  },
  {
   "cell_type": "code",
   "execution_count": 883,
   "metadata": {},
   "outputs": [
    {
     "data": {
      "text/plain": [
       "<matplotlib.axes._subplots.AxesSubplot at 0x7f26b8aa77b8>"
      ]
     },
     "execution_count": 883,
     "metadata": {},
     "output_type": "execute_result"
    },
    {
     "data": {
      "image/png": "[encoded data removed]",
      "text/plain": [
       "<Figure size 1080x504 with 1 Axes>"
      ]
     },
     "metadata": {},
     "output_type": "display_data"
    }
   ],
   "source": [
    "top_bottom.plot(y = ['SC_ST_POP','P_SC_POP','P_ST_POP'], kind = 'bar', figsize = (15,7))"
   ]
  },
  {
   "cell_type": "markdown",
   "metadata": {},
   "source": [
    "Clearly, the overall literacy rate doesn't depend on the SC and ST population proportions because these are very different for all the above states."
   ]
  },
  {
   "cell_type": "markdown",
   "metadata": {},
   "source": [
    "Now we will try to analyse some school related features and see if they affect the overall literacy rate."
   ]
  },
  {
   "cell_type": "code",
   "execution_count": 40,
   "metadata": {
    "scrolled": true
   },
   "outputs": [
    {
     "name": "stdout",
     "output_type": "stream",
     "text": [
      "    Field name                                        Description\n",
      "28      SCHTOT                         Schools By Category: Total\n",
      "37     SCHTOTG             Schools by Category: Government: Total\n",
      "46     SCHTOTP               Schools by Category: Private : Total\n",
      "55     SCHTOTM  Schools by Category: Madarsas & Unrecognised: ...\n",
      "64    SCHTOTGR      Government Schools by Category - Rural: Total\n",
      "73    SCHTOTGA    Schools by Category: Government & Aided : Total\n",
      "82    SCHTOTPR         Private Schools by Category - Rural: Total\n",
      "91   SCHBOYTOT              Schools by Category: Boys Only: Total\n",
      "100  SCHGIRTOT             Schools by Category: Girls Only: Total\n"
     ]
    }
   ],
   "source": [
    "# These are all the 'school total' related variables that we can explore\n",
    "meta_sch = meta_elementary[meta_elementary['Field name'].str.contains(r'^SCH\\w*TOT')]\n",
    "print(meta_sch)"
   ]
  },
  {
   "cell_type": "markdown",
   "metadata": {},
   "source": [
    "6. Making a new feature: KIDSPERSCH (Kids per school)(For primary/elementary schools)"
   ]
  },
  {
   "cell_type": "code",
   "execution_count": 636,
   "metadata": {},
   "outputs": [
    {
     "data": {
      "text/plain": [
       "'Schools By Category: Total'"
      ]
     },
     "execution_count": 636,
     "metadata": {},
     "output_type": "execute_result"
    }
   ],
   "source": [
    "display_desc('SCHTOT')"
   ]
  },
  {
   "cell_type": "code",
   "execution_count": 885,
   "metadata": {},
   "outputs": [
    {
     "data": {
      "text/plain": [
       "STATNAME\n",
       "KERALA                16458\n",
       "LAKSHADWEEP              41\n",
       "MIZORAM                3072\n",
       "BIHAR                 80166\n",
       "ARUNACHAL PRADESH      4012\n",
       "RAJASTHAN            107931\n",
       "Name: SCHTOT, dtype: int64"
      ]
     },
     "execution_count": 885,
     "metadata": {},
     "output_type": "execute_result"
    }
   ],
   "source": [
    "# Total no. of schools for the top 3 and bottom 3 states \n",
    "top_bottom.SCHTOT"
   ]
  },
  {
   "cell_type": "code",
   "execution_count": 886,
   "metadata": {},
   "outputs": [],
   "source": [
    "# No. of kids in the age group 6-15, i.e, elementary schoolkids\n",
    "top_bottom['SCHKIDS'] = top_bottom.TOT_6_10_15 + top_bottom.TOT_11_13_15\n",
    "# No. of kids per school\n",
    "top_bottom['KIDSPERSCH'] = top_bottom.SCHKIDS/top_bottom.SCHTOT"
   ]
  },
  {
   "cell_type": "code",
   "execution_count": 887,
   "metadata": {},
   "outputs": [
    {
     "data": {
      "text/plain": [
       "<matplotlib.axes._subplots.AxesSubplot at 0x7f26b5d1f908>"
      ]
     },
     "execution_count": 887,
     "metadata": {},
     "output_type": "execute_result"
    },
    {
     "data": {
      "image/png": "[encoded data removed]",
      "text/plain": [
       "<Figure size 432x288 with 1 Axes>"
      ]
     },
     "metadata": {},
     "output_type": "display_data"
    }
   ],
   "source": [
    "top_bottom.plot(y = 'KIDSPERSCH', kind = 'bar',)"
   ]
  },
  {
   "cell_type": "markdown",
   "metadata": {},
   "source": [
    "We see that the no. of kids per school is not a good measure to differentiate between the top and bottom 3 states. Though Mizoram has has the lowest number of kids per school, Arunachal Pradesh and Rajasthan are closeby. Bihar has the max no. of kids per school. \n",
    "\n",
    "One reason why this measure failed to differentiate could be that we dont know the size of the schools and thus there could be really big schools in Kerala but really small schools (generally speaking) in Arunachal Pradesh. Thus we don't get to know the no. of students each school can enroll and manage effeciently. No. of teachers is too a huge factor here. Perhaps no. of classes or sections would have been a better measure here as we would have gotten to know the average class strength."
   ]
  },
  {
   "cell_type": "markdown",
   "metadata": {},
   "source": [
    "7. TOTCLS1g"
   ]
  },
  {
   "cell_type": "code",
   "execution_count": 858,
   "metadata": {},
   "outputs": [
    {
     "data": {
      "text/plain": [
       "'Total Classrooms: Primary Only - Primary Only'"
      ]
     },
     "execution_count": 858,
     "metadata": {},
     "output_type": "execute_result"
    }
   ],
   "source": [
    "display_desc('TOTCLS1G')"
   ]
  },
  {
   "cell_type": "code",
   "execution_count": 888,
   "metadata": {},
   "outputs": [
    {
     "data": {
      "text/plain": [
       "<matplotlib.axes._subplots.AxesSubplot at 0x7f26b8abc9b0>"
      ]
     },
     "execution_count": 888,
     "metadata": {},
     "output_type": "execute_result"
    },
    {
     "data": {
      "image/png": "[encoded data removed]",
      "text/plain": [
       "<Figure size 432x288 with 1 Axes>"
      ]
     },
     "metadata": {},
     "output_type": "display_data"
    }
   ],
   "source": [
    "top_bottom['TOTCLS1G'].plot(kind= 'bar')"
   ]
  },
  {
   "cell_type": "code",
   "execution_count": 889,
   "metadata": {},
   "outputs": [],
   "source": [
    "# primary kids per class\n",
    "top_bottom['KIDSPERCL'] = top_bottom['SCHKIDS']/top_bottom['TOTCLS1G']"
   ]
  },
  {
   "cell_type": "code",
   "execution_count": 890,
   "metadata": {},
   "outputs": [
    {
     "data": {
      "text/plain": [
       "<matplotlib.axes._subplots.AxesSubplot at 0x7f26b6045d30>"
      ]
     },
     "execution_count": 890,
     "metadata": {},
     "output_type": "execute_result"
    },
    {
     "data": {
      "image/png": "[encoded data removed]",
      "text/plain": [
       "<Figure size 432x288 with 1 Axes>"
      ]
     },
     "metadata": {},
     "output_type": "display_data"
    }
   ],
   "source": [
    "top_bottom['KIDSPERCL'].plot(kind= 'bar')"
   ]
  },
  {
   "cell_type": "code",
   "execution_count": 892,
   "metadata": {},
   "outputs": [],
   "source": [
    "elem = elementary.copy(deep = True)\n",
    "elem['SCHKIDS'] = elem.TOT_6_10_15 + elem.TOT_11_13_15\n",
    "elem['KIDSPERCL'] = elem['SCHKIDS']/elem['TOTCLS1G']\n",
    "elem.sort_values(by = 'OVERALL_LI',ascending = False,inplace = True)"
   ]
  },
  {
   "cell_type": "code",
   "execution_count": 903,
   "metadata": {},
   "outputs": [
    {
     "data": {
      "text/plain": [
       "<matplotlib.axes._subplots.AxesSubplot at 0x7f26b4657f28>"
      ]
     },
     "execution_count": 903,
     "metadata": {},
     "output_type": "execute_result"
    },
    {
     "data": {
      "image/png": "[encoded data removed]",
      "text/plain": [
       "<Figure size 720x504 with 1 Axes>"
      ]
     },
     "metadata": {},
     "output_type": "display_data"
    }
   ],
   "source": [
    "pd.concat([elem.head(5),elem.tail(5)], axis = 0, sort = False).plot(kind= 'bar', y = 'KIDSPERCL', figsize = (10,7),width = 1)"
   ]
  },
  {
   "cell_type": "code",
   "execution_count": 908,
   "metadata": {},
   "outputs": [
    {
     "data": {
      "text/plain": [
       "Ttest_indResult(statistic=1.0639119018039684, pvalue=0.318424569301212)"
      ]
     },
     "execution_count": 908,
     "metadata": {},
     "output_type": "execute_result"
    }
   ],
   "source": [
    "stats.ttest_ind(elem.head(5)['KIDSPERCL'],elem.tail(5)['KIDSPERCL'])"
   ]
  },
  {
   "cell_type": "code",
   "execution_count": 920,
   "metadata": {},
   "outputs": [
    {
     "data": {
      "text/html": [
       "<div>\n",
       "<style scoped>\n",
       "    .dataframe tbody tr th:only-of-type {\n",
       "        vertical-align: middle;\n",
       "    }\n",
       "\n",
       "    .dataframe tbody tr th {\n",
       "        vertical-align: top;\n",
       "    }\n",
       "\n",
       "    .dataframe thead th {\n",
       "        text-align: right;\n",
       "    }\n",
       "</style>\n",
       "<table border=\"1\" class=\"dataframe\">\n",
       "  <thead>\n",
       "    <tr style=\"text-align: right;\">\n",
       "      <th></th>\n",
       "      <th>KIDSPERCL</th>\n",
       "      <th>OVERALL_LI</th>\n",
       "    </tr>\n",
       "  </thead>\n",
       "  <tbody>\n",
       "    <tr>\n",
       "      <th>KIDSPERCL</th>\n",
       "      <td>1.00000</td>\n",
       "      <td>0.16714</td>\n",
       "    </tr>\n",
       "    <tr>\n",
       "      <th>OVERALL_LI</th>\n",
       "      <td>0.16714</td>\n",
       "      <td>1.00000</td>\n",
       "    </tr>\n",
       "  </tbody>\n",
       "</table>\n",
       "</div>"
      ],
      "text/plain": [
       "            KIDSPERCL  OVERALL_LI\n",
       "KIDSPERCL     1.00000     0.16714\n",
       "OVERALL_LI    0.16714     1.00000"
      ]
     },
     "execution_count": 920,
     "metadata": {},
     "output_type": "execute_result"
    }
   ],
   "source": [
    "elem[['KIDSPERCL','OVERALL_LI']].corr()"
   ]
  },
  {
   "cell_type": "markdown",
   "metadata": {},
   "source": [
    "We see that there is a difference in the no. of kids per class, but it is nt significant.Though Bihar and Rajasthan have a very high no. of primary kids per class. The top 5 states on an average have lesser kids per class when compared to the bottom 5 states with the exception of Arunachal Pradesh. But as it isn't statistically significant, we cant conclude anything statistically."
   ]
  },
  {
   "cell_type": "markdown",
   "metadata": {},
   "source": [
    "8. Comparing the percentage of different types of Primary schools"
   ]
  },
  {
   "cell_type": "code",
   "execution_count": 640,
   "metadata": {},
   "outputs": [
    {
     "data": {
      "text/plain": [
       "<matplotlib.legend.Legend at 0x7f26b85497b8>"
      ]
     },
     "execution_count": 640,
     "metadata": {},
     "output_type": "execute_result"
    },
    {
     "data": {
      "image/png": "[encoded data removed]",
      "text/plain": [
       "<Figure size 1296x576 with 1 Axes>"
      ]
     },
     "metadata": {},
     "output_type": "display_data"
    }
   ],
   "source": [
    "# Plot of the % of elementary private, govt schools and Madarsas and comparing them with the national avg.\n",
    "schtotg_avg = (elementary.SCHTOTG/elementary.SCHTOT).mean()\n",
    "schtotp_avg = (elementary.SCHTOTP/elementary.SCHTOT).mean()\n",
    "schtotm_avg = (elementary.SCHTOTM/elementary.SCHTOT).mean()\n",
    "\n",
    "top_3_elem['SCHTOTG_P'] = (top_3_elem.SCHTOTG/top_3_elem.SCHTOT)\n",
    "top_3_elem['SCHTOTP_P'] = (top_3_elem.SCHTOTP/top_3_elem.SCHTOT)\n",
    "top_3_elem['SCHTOTM_P'] = (top_3_elem.SCHTOTM/top_3_elem.SCHTOT)\n",
    "\n",
    "bottom_3_elem['SCHTOTG_P'] = (bottom_3_elem.SCHTOTG/bottom_3_elem.SCHTOT)\n",
    "bottom_3_elem['SCHTOTP_P'] = (bottom_3_elem.SCHTOTP/bottom_3_elem.SCHTOT)\n",
    "bottom_3_elem['SCHTOTM_P'] = (bottom_3_elem.SCHTOTM/bottom_3_elem.SCHTOT)\n",
    "\n",
    "pd.concat([top_3_elem, bottom_3_elem], axis = 1, sort = False).plot(y = ['SCHTOTP_P','SCHTOTG_P','SCHTOTM_P'],\\\n",
    "                                                                    figsize = (18,8), kind = 'bar',\\\n",
    "                                                                    color =['blue','blue','g','g','black','black'], \\\n",
    "                                                                       )\n",
    "\n",
    "plt.plot([schtotg_avg]*8, linestyle ='--',color = 'g') # National avg for % of govt schools\n",
    "\n",
    "plt.plot([schtotp_avg]*8, linestyle ='--',color = 'blue') # National avg for % of private schools\n",
    "\n",
    "plt.plot([schtotm_avg]*8, linestyle ='--',color= 'black') # National avg for % of Madarsas\n",
    "\n",
    "plt.legend(['Pvt','Govt','Madarsas'],loc = 1)"
   ]
  },
  {
   "cell_type": "markdown",
   "metadata": {},
   "source": [
    "From here we can clearly note the following: \n",
    "* Lakshadweep has only govt schools.\n",
    "* Kerala has the highest number of Pvt schools share in the total schools and is the only state here which has more Pvt schools than Govt schools. It has also got an exceptionally high number of Madarasa and the number of govt schools is much less than the national average.\n",
    "* Bihar and Arunachal Pradesh have really less pvt schools compared to the govt schools. Their % of govt school is more than the national avg.\n",
    "* Rajasthan has around 35% pvt schools which is large compared to its no. of govt schools.\n",
    "\n",
    "All of this just shows us that even the share of pvt and govt schools isnt related to the literacy rate."
   ]
  },
  {
   "cell_type": "markdown",
   "metadata": {},
   "source": [
    "9. CONTIE"
   ]
  },
  {
   "cell_type": "code",
   "execution_count": 933,
   "metadata": {},
   "outputs": [
    {
     "data": {
      "text/plain": [
       "'Grants: School Development - Expended'"
      ]
     },
     "execution_count": 933,
     "metadata": {},
     "output_type": "execute_result"
    }
   ],
   "source": [
    "display_desc('CONTIE')"
   ]
  },
  {
   "cell_type": "code",
   "execution_count": 934,
   "metadata": {},
   "outputs": [
    {
     "data": {
      "text/html": [
       "<div>\n",
       "<style scoped>\n",
       "    .dataframe tbody tr th:only-of-type {\n",
       "        vertical-align: middle;\n",
       "    }\n",
       "\n",
       "    .dataframe tbody tr th {\n",
       "        vertical-align: top;\n",
       "    }\n",
       "\n",
       "    .dataframe thead th {\n",
       "        text-align: right;\n",
       "    }\n",
       "</style>\n",
       "<table border=\"1\" class=\"dataframe\">\n",
       "  <thead>\n",
       "    <tr style=\"text-align: right;\">\n",
       "      <th></th>\n",
       "      <th>CONTIE</th>\n",
       "      <th>OVERALL_LI</th>\n",
       "    </tr>\n",
       "  </thead>\n",
       "  <tbody>\n",
       "    <tr>\n",
       "      <th>CONTIE</th>\n",
       "      <td>1.000000</td>\n",
       "      <td>-0.481281</td>\n",
       "    </tr>\n",
       "    <tr>\n",
       "      <th>OVERALL_LI</th>\n",
       "      <td>-0.481281</td>\n",
       "      <td>1.000000</td>\n",
       "    </tr>\n",
       "  </tbody>\n",
       "</table>\n",
       "</div>"
      ],
      "text/plain": [
       "              CONTIE  OVERALL_LI\n",
       "CONTIE      1.000000   -0.481281\n",
       "OVERALL_LI -0.481281    1.000000"
      ]
     },
     "execution_count": 934,
     "metadata": {},
     "output_type": "execute_result"
    }
   ],
   "source": [
    "elem[['CONTIE','OVERALL_LI']].corr()"
   ]
  },
  {
   "cell_type": "code",
   "execution_count": 939,
   "metadata": {},
   "outputs": [
    {
     "data": {
      "text/plain": [
       "<matplotlib.axes._subplots.AxesSubplot at 0x7f26b6e4d3c8>"
      ]
     },
     "execution_count": 939,
     "metadata": {},
     "output_type": "execute_result"
    },
    {
     "data": {
      "image/png": "[encoded data removed]",
      "text/plain": [
       "<Figure size 432x288 with 1 Axes>"
      ]
     },
     "metadata": {},
     "output_type": "display_data"
    }
   ],
   "source": [
    "top_bottom.CONTIE.plot(kind = 'bar')"
   ]
  },
  {
   "cell_type": "markdown",
   "metadata": {},
   "source": [
    "The above says that the more the overall literacy level is, the lesser the grants would have been given to the states for school development. That does make sense as states with lesser education standards and literacy level would be requiring lesser funds as they already have good infrastructure in place. It also depends on how many schools the state has or dense the population is. Lakshadweep, Mizoram and Arunachal Pradesh all are small states and thus their fund are minimal compared to Bihar and Rajasthans."
   ]
  },
  {
   "cell_type": "markdown",
   "metadata": {},
   "source": [
    "Thus, by exploring this data we can conclude : \n",
    "1. The proportion of rural population is \n",
    "2. The difference in male and female lit\n",
    "3. the no. of kids per class"
   ]
  },
  {
   "cell_type": "markdown",
   "metadata": {},
   "source": [
    "## 3. Make a regression model for allowing for prediction of overall literacy rate using only education level indicators(eg: School types, no. of teachers across different categories, school facilites etc.). Take any 3 states as the validation set. Which technique gives us the best model?"
   ]
  },
  {
   "cell_type": "markdown",
   "metadata": {},
   "source": [
    "Now the literacy rate will definitely depends on a lot of different factors. We might not even have a lot of factors that actually affect literacy rate in our dataset. But, out of the ones we have, we will try to model literacy rate by using PCA and then creating a regression model. We also must make sure that the features that provide general information about the state are removed first."
   ]
  },
  {
   "cell_type": "code",
   "execution_count": 756,
   "metadata": {},
   "outputs": [],
   "source": [
    "# Combining the relevant features of elementary and scondary datasets"
   ]
  },
  {
   "cell_type": "code",
   "execution_count": 764,
   "metadata": {},
   "outputs": [
    {
     "data": {
      "text/html": [
       "<div>\n",
       "<style scoped>\n",
       "    .dataframe tbody tr th:only-of-type {\n",
       "        vertical-align: middle;\n",
       "    }\n",
       "\n",
       "    .dataframe tbody tr th {\n",
       "        vertical-align: top;\n",
       "    }\n",
       "\n",
       "    .dataframe thead th {\n",
       "        text-align: right;\n",
       "    }\n",
       "</style>\n",
       "<table border=\"1\" class=\"dataframe\">\n",
       "  <thead>\n",
       "    <tr style=\"text-align: right;\">\n",
       "      <th></th>\n",
       "      <th>Field name</th>\n",
       "      <th>Description</th>\n",
       "    </tr>\n",
       "  </thead>\n",
       "  <tbody>\n",
       "    <tr>\n",
       "      <th>0</th>\n",
       "      <td>AC_YEAR</td>\n",
       "      <td>AC_YEAR: AC_YEAR</td>\n",
       "    </tr>\n",
       "    <tr>\n",
       "      <th>1</th>\n",
       "      <td>STATCD</td>\n",
       "      <td>Data Reported from: Data Reported from</td>\n",
       "    </tr>\n",
       "    <tr>\n",
       "      <th>2</th>\n",
       "      <td>STATNAME</td>\n",
       "      <td>Data Reported from: Data Reported from</td>\n",
       "    </tr>\n",
       "    <tr>\n",
       "      <th>3</th>\n",
       "      <td>DISTRICTS</td>\n",
       "      <td>Data Reported from: Data Reported from</td>\n",
       "    </tr>\n",
       "    <tr>\n",
       "      <th>4</th>\n",
       "      <td>BLOCKS</td>\n",
       "      <td>Data Reported from: Data Reported from</td>\n",
       "    </tr>\n",
       "    <tr>\n",
       "      <th>5</th>\n",
       "      <td>VILLAGES</td>\n",
       "      <td>Data Reported from: Data Reported from</td>\n",
       "    </tr>\n",
       "    <tr>\n",
       "      <th>6</th>\n",
       "      <td>CLUSTERS</td>\n",
       "      <td>Data Reported from: Data Reported from</td>\n",
       "    </tr>\n",
       "    <tr>\n",
       "      <th>7</th>\n",
       "      <td>TOTPOPULAT</td>\n",
       "      <td>Basic data from Census 2011: Total Population(...</td>\n",
       "    </tr>\n",
       "    <tr>\n",
       "      <th>8</th>\n",
       "      <td>P_URB_POP</td>\n",
       "      <td>Basic data from Census 2011: Percentage Urban ...</td>\n",
       "    </tr>\n",
       "    <tr>\n",
       "      <th>9</th>\n",
       "      <td>POPULATION_0_6</td>\n",
       "      <td>Basic data from Census 2011: Percentage Popula...</td>\n",
       "    </tr>\n",
       "    <tr>\n",
       "      <th>10</th>\n",
       "      <td>GROWTHRATE</td>\n",
       "      <td>Basic data from Census 2011: Growth Rate</td>\n",
       "    </tr>\n",
       "    <tr>\n",
       "      <th>11</th>\n",
       "      <td>SEXRATIO</td>\n",
       "      <td>Basic data from Census 2011: Sex Ratio</td>\n",
       "    </tr>\n",
       "    <tr>\n",
       "      <th>12</th>\n",
       "      <td>P_SC_POP</td>\n",
       "      <td>Basic data from Census 2011: Percentage SC Pop...</td>\n",
       "    </tr>\n",
       "    <tr>\n",
       "      <th>13</th>\n",
       "      <td>P_ST_POP</td>\n",
       "      <td>Basic data from Census 2011: Percentage ST Pop...</td>\n",
       "    </tr>\n",
       "    <tr>\n",
       "      <th>14</th>\n",
       "      <td>OVERALL_LI</td>\n",
       "      <td>Basic data from Census 2011: Literacy Rate</td>\n",
       "    </tr>\n",
       "    <tr>\n",
       "      <th>15</th>\n",
       "      <td>FEMALE_LIT</td>\n",
       "      <td>Basic data from Census 2011: Female Literacy Rate</td>\n",
       "    </tr>\n",
       "    <tr>\n",
       "      <th>16</th>\n",
       "      <td>MALE_LIT</td>\n",
       "      <td>Basic data from Census 2011: Male Literacy Rate</td>\n",
       "    </tr>\n",
       "    <tr>\n",
       "      <th>17</th>\n",
       "      <td>AREA_SQKM</td>\n",
       "      <td>Basic data from Census 2011: Area (Sq. KM)</td>\n",
       "    </tr>\n",
       "    <tr>\n",
       "      <th>18</th>\n",
       "      <td>TOT_6_10_15</td>\n",
       "      <td>Projected Population : Age Group 6 to 10</td>\n",
       "    </tr>\n",
       "    <tr>\n",
       "      <th>19</th>\n",
       "      <td>TOT_11_13_15</td>\n",
       "      <td>Projected Population : Age Group 11 to 13</td>\n",
       "    </tr>\n",
       "    <tr>\n",
       "      <th>20</th>\n",
       "      <td>SCH1</td>\n",
       "      <td>Schools By Category: Primary Only</td>\n",
       "    </tr>\n",
       "  </tbody>\n",
       "</table>\n",
       "</div>"
      ],
      "text/plain": [
       "        Field name                                        Description\n",
       "0          AC_YEAR                                   AC_YEAR: AC_YEAR\n",
       "1           STATCD             Data Reported from: Data Reported from\n",
       "2         STATNAME             Data Reported from: Data Reported from\n",
       "3        DISTRICTS             Data Reported from: Data Reported from\n",
       "4           BLOCKS             Data Reported from: Data Reported from\n",
       "5         VILLAGES             Data Reported from: Data Reported from\n",
       "6         CLUSTERS             Data Reported from: Data Reported from\n",
       "7       TOTPOPULAT  Basic data from Census 2011: Total Population(...\n",
       "8        P_URB_POP  Basic data from Census 2011: Percentage Urban ...\n",
       "9   POPULATION_0_6  Basic data from Census 2011: Percentage Popula...\n",
       "10      GROWTHRATE           Basic data from Census 2011: Growth Rate\n",
       "11        SEXRATIO             Basic data from Census 2011: Sex Ratio\n",
       "12        P_SC_POP  Basic data from Census 2011: Percentage SC Pop...\n",
       "13        P_ST_POP  Basic data from Census 2011: Percentage ST Pop...\n",
       "14      OVERALL_LI         Basic data from Census 2011: Literacy Rate\n",
       "15      FEMALE_LIT  Basic data from Census 2011: Female Literacy Rate\n",
       "16        MALE_LIT    Basic data from Census 2011: Male Literacy Rate\n",
       "17       AREA_SQKM         Basic data from Census 2011: Area (Sq. KM)\n",
       "18     TOT_6_10_15           Projected Population : Age Group 6 to 10\n",
       "19    TOT_11_13_15          Projected Population : Age Group 11 to 13\n",
       "20            SCH1                  Schools By Category: Primary Only"
      ]
     },
     "execution_count": 764,
     "metadata": {},
     "output_type": "execute_result"
    }
   ],
   "source": [
    "# Education level indicators start from 20 in elementary\n",
    "meta_elementary.iloc[:21,:]"
   ]
  },
  {
   "cell_type": "code",
   "execution_count": 765,
   "metadata": {},
   "outputs": [
    {
     "data": {
      "text/html": [
       "<div>\n",
       "<style scoped>\n",
       "    .dataframe tbody tr th:only-of-type {\n",
       "        vertical-align: middle;\n",
       "    }\n",
       "\n",
       "    .dataframe tbody tr th {\n",
       "        vertical-align: top;\n",
       "    }\n",
       "\n",
       "    .dataframe thead th {\n",
       "        text-align: right;\n",
       "    }\n",
       "</style>\n",
       "<table border=\"1\" class=\"dataframe\">\n",
       "  <thead>\n",
       "    <tr style=\"text-align: right;\">\n",
       "      <th></th>\n",
       "      <th>Field name</th>\n",
       "      <th>Description</th>\n",
       "    </tr>\n",
       "  </thead>\n",
       "  <tbody>\n",
       "    <tr>\n",
       "      <th>0</th>\n",
       "      <td>statcd</td>\n",
       "      <td>State code</td>\n",
       "    </tr>\n",
       "    <tr>\n",
       "      <th>1</th>\n",
       "      <td>ac_year</td>\n",
       "      <td>Academic year</td>\n",
       "    </tr>\n",
       "    <tr>\n",
       "      <th>2</th>\n",
       "      <td>statname</td>\n",
       "      <td>State name</td>\n",
       "    </tr>\n",
       "    <tr>\n",
       "      <th>3</th>\n",
       "      <td>area_sqkm</td>\n",
       "      <td>Area</td>\n",
       "    </tr>\n",
       "    <tr>\n",
       "      <th>4</th>\n",
       "      <td>tot_population</td>\n",
       "      <td>Total Population</td>\n",
       "    </tr>\n",
       "    <tr>\n",
       "      <th>5</th>\n",
       "      <td>urban_population</td>\n",
       "      <td>Urban Population</td>\n",
       "    </tr>\n",
       "    <tr>\n",
       "      <th>6</th>\n",
       "      <td>grwoth_rate</td>\n",
       "      <td>Growth Rate</td>\n",
       "    </tr>\n",
       "    <tr>\n",
       "      <th>7</th>\n",
       "      <td>sexratio</td>\n",
       "      <td>Sex Ratio</td>\n",
       "    </tr>\n",
       "    <tr>\n",
       "      <th>8</th>\n",
       "      <td>sc_population</td>\n",
       "      <td>% SC Population</td>\n",
       "    </tr>\n",
       "    <tr>\n",
       "      <th>9</th>\n",
       "      <td>st_population</td>\n",
       "      <td>% St Population</td>\n",
       "    </tr>\n",
       "    <tr>\n",
       "      <th>10</th>\n",
       "      <td>literacy_rate</td>\n",
       "      <td>literacy rate</td>\n",
       "    </tr>\n",
       "    <tr>\n",
       "      <th>11</th>\n",
       "      <td>male_literacy_rate</td>\n",
       "      <td>literacy rate- Male</td>\n",
       "    </tr>\n",
       "    <tr>\n",
       "      <th>12</th>\n",
       "      <td>female_literacy_rate</td>\n",
       "      <td>literacy rate- Female</td>\n",
       "    </tr>\n",
       "    <tr>\n",
       "      <th>13</th>\n",
       "      <td>distcd</td>\n",
       "      <td>Districts: Districts</td>\n",
       "    </tr>\n",
       "    <tr>\n",
       "      <th>14</th>\n",
       "      <td>blkcd</td>\n",
       "      <td>Blocks: Blocks</td>\n",
       "    </tr>\n",
       "    <tr>\n",
       "      <th>15</th>\n",
       "      <td>villages</td>\n",
       "      <td>Villages: Villages</td>\n",
       "    </tr>\n",
       "    <tr>\n",
       "      <th>16</th>\n",
       "      <td>clusters</td>\n",
       "      <td>clusters: clusters</td>\n",
       "    </tr>\n",
       "    <tr>\n",
       "      <th>17</th>\n",
       "      <td>schools</td>\n",
       "      <td>schools: schools</td>\n",
       "    </tr>\n",
       "    <tr>\n",
       "      <th>18</th>\n",
       "      <td>sch_1</td>\n",
       "      <td>Number of Schools: Primary with upper primary ...</td>\n",
       "    </tr>\n",
       "    <tr>\n",
       "      <th>19</th>\n",
       "      <td>sch_2</td>\n",
       "      <td>Number of Schools: Upper Primary with secondar...</td>\n",
       "    </tr>\n",
       "    <tr>\n",
       "      <th>20</th>\n",
       "      <td>sch_3</td>\n",
       "      <td>Number of Schools: Primary with upper primary ...</td>\n",
       "    </tr>\n",
       "  </tbody>\n",
       "</table>\n",
       "</div>"
      ],
      "text/plain": [
       "              Field name                                        Description\n",
       "0                 statcd                                         State code\n",
       "1                ac_year                                      Academic year\n",
       "2               statname                                         State name\n",
       "3              area_sqkm                                               Area\n",
       "4         tot_population                                   Total Population\n",
       "5       urban_population                                  Urban Population \n",
       "6            grwoth_rate                                        Growth Rate\n",
       "7               sexratio                                          Sex Ratio\n",
       "8          sc_population                                    % SC Population\n",
       "9          st_population                                    % St Population\n",
       "10         literacy_rate                                      literacy rate\n",
       "11    male_literacy_rate                                literacy rate- Male\n",
       "12  female_literacy_rate                              literacy rate- Female\n",
       "13                distcd                               Districts: Districts\n",
       "14                 blkcd                                     Blocks: Blocks\n",
       "15              villages                                 Villages: Villages\n",
       "16              clusters                                 clusters: clusters\n",
       "17               schools                                   schools: schools\n",
       "18                 sch_1  Number of Schools: Primary with upper primary ...\n",
       "19                 sch_2  Number of Schools: Upper Primary with secondar...\n",
       "20                 sch_3  Number of Schools: Primary with upper primary ..."
      ]
     },
     "execution_count": 765,
     "metadata": {},
     "output_type": "execute_result"
    }
   ],
   "source": [
    "# Education level indicators start from 17 here\n",
    "meta_secondary.iloc[:21,:]"
   ]
  },
  {
   "cell_type": "code",
   "execution_count": 826,
   "metadata": {},
   "outputs": [
    {
     "name": "stdout",
     "output_type": "stream",
     "text": [
      "STATNAME\n",
      "JAMMU AND KASHMIR             8\n",
      "HIMACHAL PRADESH              8\n",
      "PUNJAB                        0\n",
      "CHANDIGARH                    8\n",
      "UTTARAKHAND                   0\n",
      "HARYANA                       0\n",
      "DELHI                        34\n",
      "RAJASTHAN                     0\n",
      "UTTAR PRADESH                 0\n",
      "BIHAR                         0\n",
      "SIKKIM                        8\n",
      "ARUNACHAL PRADESH             8\n",
      "NAGALAND                      8\n",
      "MANIPUR                       8\n",
      "MIZORAM                      16\n",
      "TRIPURA                       8\n",
      "MEGHALAYA                     0\n",
      "ASSAM                         0\n",
      "WEST BENGAL                   0\n",
      "JHARKHAND                     0\n",
      "ODISHA                        0\n",
      "CHHATTISGARH                  0\n",
      "MADHYA PRADESH                0\n",
      "GUJARAT                       0\n",
      "DAMAN & DIU                  24\n",
      "DADRA & NAGAR HAVELI         42\n",
      "MAHARASHTRA                   0\n",
      "ANDHRA PRADESH                0\n",
      "KARNATAKA                     0\n",
      "GOA                           0\n",
      "LAKSHADWEEP                  64\n",
      "KERALA                        0\n",
      "TAMIL NADU                    0\n",
      "PUDUCHERRY                   26\n",
      "ANDAMAN & NICOBAR ISLANDS    24\n",
      "TELANGANA                    10\n",
      "dtype: int64\n"
     ]
    }
   ],
   "source": [
    "# We had null values in the dataset. Time to remove this columns which have null values. \n",
    "# We definitely can't remove the rows as the dataset is too small. We have a huge number of columns\n",
    "# and thus we can afford to remove them. We could try to impute values inplace of the nan but as this data\n",
    "# is very small and every value depends on so many factors that we don't even have with us, we just might\n",
    "# not want to impute it.\n",
    "print(secondary.isnull().sum(axis =1))\n",
    "secondary.dropna(axis = 1, how = 'any', inplace = True)"
   ]
  },
  {
   "cell_type": "code",
   "execution_count": 827,
   "metadata": {},
   "outputs": [],
   "source": [
    "# Combining the dataframes\n",
    "secondary['STATNAME'] = secondary.statname.str.upper()\n",
    "secondary.set_index('STATNAME', inplace = True)\n",
    "combined_df = pd.merge(elementary.iloc[:,20:], secondary.iloc[:,17:], on = elementary.index)\n",
    "combined_df.drop('key_0',axis = 1, inplace = True)"
   ]
  },
  {
   "cell_type": "code",
   "execution_count": 828,
   "metadata": {},
   "outputs": [],
   "source": [
    "# Saving index for later use\n",
    "idx = elementary.index.tolist()"
   ]
  },
  {
   "cell_type": "code",
   "execution_count": 829,
   "metadata": {},
   "outputs": [],
   "source": [
    "# PCA and Linear Regression\n",
    "# First find all principal components\n",
    "X = combined_df\n",
    "y = elementary.OVERALL_LI\n",
    "# Create test set\n",
    "X_train, X_test, y_train, y_test = train_test_split(X, y, test_size = 3, random_state = 0)\n",
    "# Scale all items\n",
    "scaler = StandardScaler()\n",
    "X_train_scale = scaler.fit_transform(X_train)\n",
    "X_test_scale = scaler.transform(X_test)\n",
    "\n",
    "pca = PCA()\n",
    "X_train_pca = pca.fit_transform(X_train_scale)"
   ]
  },
  {
   "cell_type": "code",
   "execution_count": 830,
   "metadata": {},
   "outputs": [
    {
     "data": {
      "text/plain": [
       "Text(0.5,0,'No. of Components')"
      ]
     },
     "execution_count": 830,
     "metadata": {},
     "output_type": "execute_result"
    },
    {
     "data": {
      "image/png": "[encoded data removed]",
      "text/plain": [
       "<Figure size 1440x504 with 2 Axes>"
      ]
     },
     "metadata": {},
     "output_type": "display_data"
    }
   ],
   "source": [
    "# Cumulative variance ration explained\n",
    "np.cumsum(pca.explained_variance_ratio_)\n",
    "\n",
    "fig, ax = plt.subplots(1,2, figsize = (20,7))\n",
    "plt.plot(np.arange(1,34,1),np.cumsum(pca.explained_variance_ratio_))\n",
    "ax[1].set_title('No. of components vs Cumulative explained variance ratio')\n",
    "ax[1].set_ylabel('Cumulative Explained Variance Ratio')\n",
    "ax[1].set_xlabel('No. of Components')\n",
    "sns.barplot(y = np.cumsum(pca.explained_variance_ratio_),x = np.arange(1,34,1), ax = ax[0])\n",
    "ax[0].set_title('No. of components vs Cumulative explained variance ratio')\n",
    "ax[0].set_ylabel('Cumulative Explained Variance Ratio')\n",
    "ax[0].set_xlabel('No. of Components')"
   ]
  },
  {
   "cell_type": "code",
   "execution_count": 831,
   "metadata": {},
   "outputs": [
    {
     "data": {
      "text/plain": [
       "0.8576358384752518"
      ]
     },
     "execution_count": 831,
     "metadata": {},
     "output_type": "execute_result"
    }
   ],
   "source": [
    "# For 10th PC\n",
    "np.cumsum(pca.explained_variance_ratio_)[9]"
   ]
  },
  {
   "cell_type": "markdown",
   "metadata": {},
   "source": [
    "Note that after around 10 P.Cs the rate of the rise in explained variance ratio decreases. Also, over 85% of the variance in the data is explained with 10 components.Thus, we choose to go with 10 components for our data."
   ]
  },
  {
   "cell_type": "code",
   "execution_count": 832,
   "metadata": {},
   "outputs": [
    {
     "name": "stdout",
     "output_type": "stream",
     "text": [
      "(33, 10) (3, 10)\n"
     ]
    }
   ],
   "source": [
    "pca = PCA(10)\n",
    "X_train_pca = pca.fit_transform(X_train_scale)\n",
    "X_test_pca = pca.transform(X_test_scale)\n",
    "\n",
    "print(X_train_pca.shape, X_test_pca.shape)"
   ]
  },
  {
   "cell_type": "markdown",
   "metadata": {},
   "source": [
    "Now we get to create the regression models and test for which one is the best"
   ]
  }
 ],
 "metadata": {
  "kernelspec": {
   "display_name": "Python 3",
   "language": "python",
   "name": "python3"
  },
  "language_info": {
   "codemirror_mode": {
    "name": "ipython",
    "version": 3
   },
   "file_extension": ".py",
   "mimetype": "text/x-python",
   "name": "python",
   "nbconvert_exporter": "python",
   "pygments_lexer": "ipython3",
   "version": "3.6.5"
  }
 },
 "nbformat": 4,
 "nbformat_minor": 2
}
